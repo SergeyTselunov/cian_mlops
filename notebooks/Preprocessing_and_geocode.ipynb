{
 "cells": [
  {
   "cell_type": "code",
   "execution_count": 1,
   "id": "dd611449-f21d-416e-8ab6-d3c60188d067",
   "metadata": {},
   "outputs": [],
   "source": [
    "import pandas as pd\n",
    "import yaml\n",
    "from typing import Text\n",
    "from datetime import datetime\n",
    "import numpy as np\n",
    "\n",
    "import json\n",
    "from geopy import distance\n",
    "\n",
    "import warnings\n",
    "warnings.filterwarnings(\"ignore\")"
   ]
  },
  {
   "cell_type": "code",
   "execution_count": 62,
   "id": "82c6c90f-7292-49e1-a78b-e7c80b51db66",
   "metadata": {},
   "outputs": [],
   "source": [
    "config_path = \"../config/params.yml\"\n",
    "config = yaml.load(open(config_path,  encoding=\"utf-8\"), Loader=yaml.FullLoader)\n",
    "\n",
    "\n",
    "preproc = config[\"preprocessing\"]\n",
    "training = config[\"train\"]"
   ]
  },
  {
   "cell_type": "markdown",
   "id": "22b2b1dc-87ec-4510-a4f1-a70df3918c59",
   "metadata": {},
   "source": [
    "# Препроцессинг"
   ]
  },
  {
   "cell_type": "code",
   "execution_count": 3,
   "id": "6957c340-40a3-48ea-80de-8aeef5261f82",
   "metadata": {},
   "outputs": [],
   "source": [
    "def get_dataset(dataset_path: Text) -> pd.DataFrame:\n",
    "    \"\"\"\n",
    "    Получение данных по заданному пути\n",
    "    :param dataset_path: путь до данных\n",
    "    :return: датасет\n",
    "    \"\"\"\n",
    "    return pd.read_csv(dataset_path)"
   ]
  },
  {
   "cell_type": "code",
   "execution_count": 4,
   "id": "a103f4f7-4003-4953-b26a-d83261449f0f",
   "metadata": {},
   "outputs": [],
   "source": [
    "df = get_dataset(preproc[\"cian_path\"])"
   ]
  },
  {
   "cell_type": "code",
   "execution_count": 5,
   "id": "60d19aa8-6bc9-49aa-8878-63d42ec47b5e",
   "metadata": {},
   "outputs": [
    {
     "data": {
      "text/plain": [
       "Название                                Многокомнатная квартира, 190 м²\n",
       "Адрес                 Москва, ЦАО, р-н Тверской, ул. Большая Дмитров...\n",
       "Метро                                                         Чеховская\n",
       "Время до метро                                                   7 мин.\n",
       "Цена                                                         89000000.0\n",
       "Цена за квадрат                                                468421.0\n",
       "Общая площадь                                                       190\n",
       "Жилая площадь                                                       126\n",
       "Площадь кухни                                                        22\n",
       "Этаж                                                             3 из 5\n",
       "Год постройки                                                    1912.0\n",
       "Тип жилья                                                      Вторичка\n",
       "Высота потолков                                                   3,6 м\n",
       "Санузел                                                   3 совмещенных\n",
       "Вид из окон                                                     Во двор\n",
       "Ремонт                                                    Косметический\n",
       "Строительная серия                                Индивидуальный проект\n",
       "Мусоропровод                                                         Да\n",
       "Количество лифтов                                        1 пассажирский\n",
       "Тип дома                                                      Кирпичный\n",
       "Тип перекрытий                                           Нет информации\n",
       "Парковка                                                       Наземная\n",
       "Подъезды                                                            2.0\n",
       "Отопление                                                   Центральное\n",
       "Аварийность                                                         Нет\n",
       "Газоснабжение                                               Центральное\n",
       "Балкон/лоджия                                                       NaN\n",
       "Год сдачи                                                           NaN\n",
       "Дом                                                                 NaN\n",
       "Отделка                                                             NaN\n",
       "Name: 1, dtype: object"
      ]
     },
     "execution_count": 5,
     "metadata": {},
     "output_type": "execute_result"
    }
   ],
   "source": [
    "df.iloc[1]"
   ]
  },
  {
   "cell_type": "code",
   "execution_count": 6,
   "id": "56bed12c-4ab8-4206-9815-3d4ad74efc35",
   "metadata": {},
   "outputs": [
    {
     "data": {
      "text/plain": [
       "(10307, 30)"
      ]
     },
     "execution_count": 6,
     "metadata": {},
     "output_type": "execute_result"
    }
   ],
   "source": [
    "df.shape"
   ]
  },
  {
   "cell_type": "markdown",
   "id": "9e389b25-975d-4f6c-9a10-92f386b1f577",
   "metadata": {},
   "source": [
    "## Общий анализ данных."
   ]
  },
  {
   "cell_type": "code",
   "execution_count": 7,
   "id": "81a1a585-eb02-403e-b10c-bcd2f717a7fc",
   "metadata": {},
   "outputs": [
    {
     "name": "stdout",
     "output_type": "stream",
     "text": [
      "<class 'pandas.core.frame.DataFrame'>\n",
      "RangeIndex: 10307 entries, 0 to 10306\n",
      "Data columns (total 30 columns):\n",
      " #   Column              Non-Null Count  Dtype  \n",
      "---  ------              --------------  -----  \n",
      " 0   Название            10291 non-null  object \n",
      " 1   Адрес               10291 non-null  object \n",
      " 2   Метро               10289 non-null  object \n",
      " 3   Время до метро      10253 non-null  object \n",
      " 4   Цена                10291 non-null  float64\n",
      " 5   Цена за квадрат     10291 non-null  float64\n",
      " 6   Общая площадь       10291 non-null  object \n",
      " 7   Жилая площадь       7882 non-null   object \n",
      " 8   Площадь кухни       8477 non-null   object \n",
      " 9   Этаж                10291 non-null  object \n",
      " 10  Год постройки       8319 non-null   float64\n",
      " 11  Тип жилья           10291 non-null  object \n",
      " 12  Высота потолков     7879 non-null   object \n",
      " 13  Санузел             9021 non-null   object \n",
      " 14  Вид из окон         7838 non-null   object \n",
      " 15  Ремонт              8428 non-null   object \n",
      " 16  Строительная серия  5954 non-null   object \n",
      " 17  Мусоропровод        4568 non-null   object \n",
      " 18  Количество лифтов   7954 non-null   object \n",
      " 19  Тип дома            8238 non-null   object \n",
      " 20  Тип перекрытий      7662 non-null   object \n",
      " 21  Парковка            6116 non-null   object \n",
      " 22  Подъезды            7122 non-null   float64\n",
      " 23  Отопление           7662 non-null   object \n",
      " 24  Аварийность         7662 non-null   object \n",
      " 25  Газоснабжение       2800 non-null   object \n",
      " 26  Балкон/лоджия       5260 non-null   object \n",
      " 27  Год сдачи           1533 non-null   float64\n",
      " 28  Дом                 1028 non-null   object \n",
      " 29  Отделка             1417 non-null   object \n",
      "dtypes: float64(5), object(25)\n",
      "memory usage: 2.4+ MB\n"
     ]
    }
   ],
   "source": [
    "df.info()"
   ]
  },
  {
   "cell_type": "code",
   "execution_count": 8,
   "id": "8d04cdb6-b0e2-4e67-ab73-fd923b98d713",
   "metadata": {},
   "outputs": [
    {
     "name": "stdout",
     "output_type": "stream",
     "text": [
      "Доля пропусков:\n",
      "Название               0.16\n",
      "Адрес                  0.16\n",
      "Метро                  0.17\n",
      "Время до метро         0.52\n",
      "Цена                   0.16\n",
      "Цена за квадрат        0.16\n",
      "Общая площадь          0.16\n",
      "Жилая площадь         23.53\n",
      "Площадь кухни         17.75\n",
      "Этаж                   0.16\n",
      "Год постройки         19.29\n",
      "Тип жилья              0.16\n",
      "Высота потолков       23.56\n",
      "Санузел               12.48\n",
      "Вид из окон           23.95\n",
      "Ремонт                18.23\n",
      "Строительная серия    42.23\n",
      "Мусоропровод          55.68\n",
      "Количество лифтов     22.83\n",
      "Тип дома              20.07\n",
      "Тип перекрытий        25.66\n",
      "Парковка              40.66\n",
      "Подъезды              30.90\n",
      "Отопление             25.66\n",
      "Аварийность           25.66\n",
      "Газоснабжение         72.83\n",
      "Балкон/лоджия         48.97\n",
      "Год сдачи             85.13\n",
      "Дом                   90.03\n",
      "Отделка               86.25\n",
      "dtype: float64\n"
     ]
    }
   ],
   "source": [
    "print(f\"Доля пропусков:\\n{round(df.isna().sum() / df.shape[0] * 100, 2)}\")"
   ]
  },
  {
   "cell_type": "markdown",
   "id": "5dc95c49-6ee9-46ee-9aea-4b5dd7259ca4",
   "metadata": {},
   "source": [
    "<br>\n",
    "Посмотрю на значения признаков у которых больше 70% пропусков в данных.\n",
    "<br><br>"
   ]
  },
  {
   "cell_type": "code",
   "execution_count": 9,
   "id": "6e7e5e87-be7f-4796-96d4-26acfc4ed16c",
   "metadata": {},
   "outputs": [],
   "source": [
    "isna_list = (df.isna().sum() / df.shape[0] > 0.7).loc[lambda x: x == True].index"
   ]
  },
  {
   "cell_type": "code",
   "execution_count": 10,
   "id": "303fcdf6-01a8-4c78-9d65-734d674da32b",
   "metadata": {},
   "outputs": [
    {
     "name": "stdout",
     "output_type": "stream",
     "text": [
      "Газоснабжение : Газоснабжение\n",
      "NaN            72.833996\n",
      "Центральное    27.020472\n",
      "Автономное      0.145532\n",
      "Name: proportion, dtype: float64\n",
      "\n",
      "Год сдачи : Год сдачи\n",
      "NaN       85.126613\n",
      "2023.0     4.686136\n",
      "2024.0     4.104007\n",
      "2025.0     3.094984\n",
      "2026.0     1.348598\n",
      "2021.0     0.407490\n",
      "2022.0     0.388086\n",
      "2027.0     0.388086\n",
      "2013.0     0.135830\n",
      "2019.0     0.106724\n",
      "2020.0     0.097021\n",
      "2016.0     0.077617\n",
      "2017.0     0.029106\n",
      "2018.0     0.009702\n",
      "Name: proportion, dtype: float64\n",
      "\n",
      "Дом : Дом\n",
      "NaN        90.026196\n",
      "Не сдан     8.169205\n",
      "Сдан        1.804599\n",
      "Name: proportion, dtype: float64\n",
      "\n",
      "Отделка : Отделка\n",
      "NaN                   86.252062\n",
      "Без отделки            8.101290\n",
      "Чистовая               3.774134\n",
      "Предчистовая           0.766469\n",
      "Черновая               0.407490\n",
      "Неизвестно             0.397788\n",
      "С отделкой             0.242554\n",
      "Под ключ               0.038809\n",
      "Чистовая с мебелью     0.019404\n",
      "Name: proportion, dtype: float64\n",
      "\n"
     ]
    }
   ],
   "source": [
    "for col in isna_list:\n",
    "    print(f\"{col} : {df[col].value_counts(normalize=True, dropna=False)*100}\\n\")"
   ]
  },
  {
   "cell_type": "markdown",
   "id": "5d421c0e-aecf-462a-8b2d-b7299ccdc03b",
   "metadata": {},
   "source": [
    "В признаке \"Газоснабжение\" нет значения \"без газоснабжения\".Пустые значения говорят об отсутствии газа в доме, либо об отсутствии информации на сайте об этом доме. Так как у нас всего 2 значения, и \"автономное\" попадается только в 0.1%, то решаю этот признак удалить.  <br><br>\n",
    "В признаке \"Год сдачи\" отсутствуют значения <2013 года. Пустые значения могут как раз обозначать этот период сдачи и отсутствие информации на сайте.\n",
    "Так как у нас более менее хорошо заполненный признак \"год постройки\" то думаю что \"год сдачи\" тоже можно удалить<br><br>\n",
    "В признаке \"Дом\" большинство пропусков могут принадлежать старым домам, которые по определению давно сданы. Так как пропусков почти 90% то удалю этот признак.<br><br>\n",
    "В признаке \"Отделка\" скорее всего пропуски также относятся к старым домам. Здесь больше значений чем в предыдущих признаках, которые могут повлиять на цену, в дальнейшем заменю пустые значения на \"неизвестно\"."
   ]
  },
  {
   "cell_type": "code",
   "execution_count": 11,
   "id": "7248e722-c16b-4cd4-9d06-eecf91a32c9f",
   "metadata": {},
   "outputs": [],
   "source": [
    "drop_lst = df[[\"Строительная серия\", \"Аварийность\", \"Подъезды\"]]"
   ]
  },
  {
   "cell_type": "code",
   "execution_count": 12,
   "id": "08d5836d-24cc-482a-960c-9823ef50fa7d",
   "metadata": {},
   "outputs": [
    {
     "name": "stdout",
     "output_type": "stream",
     "text": [
      "Строительная серия : Строительная серия\n",
      "NaN                      42.233434\n",
      "Индивидуальный проект    34.675463\n",
      "II-49                     3.550985\n",
      "П-44                      2.454642\n",
      "II-18                     2.318812\n",
      "                           ...    \n",
      "1МГ-601-Д                 0.009702\n",
      "К-7                       0.009702\n",
      "II-18-02/12               0.009702\n",
      "II-17                     0.009702\n",
      "ГМС-1                     0.009702\n",
      "Name: proportion, Length: 66, dtype: float64\n",
      "\n",
      "Аварийность : Аварийность\n",
      "Нет    74.289318\n",
      "NaN    25.662171\n",
      "Да      0.048511\n",
      "Name: proportion, dtype: float64\n",
      "\n",
      "Подъезды : Подъезды\n",
      "NaN      30.901329\n",
      "1.0      13.747938\n",
      "4.0      10.633550\n",
      "3.0       8.877462\n",
      "2.0       8.528185\n",
      "6.0       6.034734\n",
      "5.0       5.229456\n",
      "8.0       3.735326\n",
      "7.0       2.571068\n",
      "10.0      2.008344\n",
      "12.0      1.775492\n",
      "9.0       1.688173\n",
      "11.0      0.912002\n",
      "14.0      0.640342\n",
      "13.0      0.601533\n",
      "15.0      0.504511\n",
      "16.0      0.310469\n",
      "18.0      0.291064\n",
      "17.0      0.261958\n",
      "21.0      0.242554\n",
      "24.0      0.194043\n",
      "22.0      0.155234\n",
      "480.0     0.058213\n",
      "19.0      0.058213\n",
      "20.0      0.029106\n",
      "25.0      0.009702\n",
      "Name: proportion, dtype: float64\n",
      "\n"
     ]
    }
   ],
   "source": [
    "for col in drop_lst:\n",
    "    print(f\"{col} : {df[col].value_counts(normalize=True, dropna=False)*100}\\n\")"
   ]
  },
  {
   "cell_type": "markdown",
   "id": "a13243a8-6f8b-41e4-b242-efe8ed39cce4",
   "metadata": {},
   "source": [
    "<br>\n",
    "Удалю строки в которых есть пропуски в признаках: Цена, Метро. Так как цена это целевой признак, а метро так как это важный признак в котором по моему мнению не допустимо заполнение приблизительными значениями.<br> \n",
    "Так же удалю признаки [ \"Строительная серия\",\"Аварийность\", \"Подъезды\"] так как логически они мало влияют на цену либо в них сильно преобладает одно значение и пропуски.\n",
    "<br> \n",
    "<br>"
   ]
  },
  {
   "cell_type": "code",
   "execution_count": 13,
   "id": "d9391a0e-b038-4392-b7e8-f0bddf8fa4b9",
   "metadata": {},
   "outputs": [],
   "source": [
    "df = df.drop(\n",
    "    columns=[\n",
    "        \"Газоснабжение\",\n",
    "        \"Год сдачи\",\n",
    "        \"Дом\",\n",
    "        \"Строительная серия\",\n",
    "        \"Аварийность\",\n",
    "        \"Подъезды\",\n",
    "    ]\n",
    ").copy()"
   ]
  },
  {
   "cell_type": "code",
   "execution_count": 14,
   "id": "2feae361-93ba-4724-ac2a-5bc8ed01f607",
   "metadata": {},
   "outputs": [],
   "source": [
    "df = df.drop(df[\"Цена\"].isna().loc[lambda x: x == True].index)"
   ]
  },
  {
   "cell_type": "code",
   "execution_count": 15,
   "id": "66165427-5906-4c51-b052-25d2bafad631",
   "metadata": {},
   "outputs": [],
   "source": [
    "df_clean = df.drop(df[\"Метро\"].isna().loc[lambda x: x == True].index).reset_index(\n",
    "    drop=True\n",
    ")"
   ]
  },
  {
   "cell_type": "code",
   "execution_count": 16,
   "id": "4f280f57-0db9-4349-85eb-68c6cc92cf68",
   "metadata": {},
   "outputs": [
    {
     "name": "stdout",
     "output_type": "stream",
     "text": [
      "Доля пропусков:\n",
      "Название              0.00\n",
      "Адрес                 0.00\n",
      "Метро                 0.00\n",
      "Время до метро        0.35\n",
      "Цена                  0.00\n",
      "Цена за квадрат       0.00\n",
      "Общая площадь         0.00\n",
      "Жилая площадь        23.39\n",
      "Площадь кухни        17.61\n",
      "Этаж                  0.00\n",
      "Год постройки        19.15\n",
      "Тип жилья             0.00\n",
      "Высота потолков      23.44\n",
      "Санузел              12.34\n",
      "Вид из окон          23.82\n",
      "Ремонт               18.09\n",
      "Мусоропровод         55.60\n",
      "Количество лифтов    22.71\n",
      "Тип дома             19.93\n",
      "Тип перекрытий       25.53\n",
      "Парковка             40.56\n",
      "Отопление            25.53\n",
      "Балкон/лоджия        48.88\n",
      "Отделка              86.25\n",
      "dtype: float64\n"
     ]
    }
   ],
   "source": [
    "print(f\"Доля пропусков:\\n{round(df_clean.isna().sum() / df_clean.shape[0] * 100, 2)}\")"
   ]
  },
  {
   "cell_type": "code",
   "execution_count": 17,
   "id": "4eb0faab-0037-4c96-8035-9d12615a7cec",
   "metadata": {},
   "outputs": [
    {
     "data": {
      "text/html": [
       "<div>\n",
       "<style scoped>\n",
       "    .dataframe tbody tr th:only-of-type {\n",
       "        vertical-align: middle;\n",
       "    }\n",
       "\n",
       "    .dataframe tbody tr th {\n",
       "        vertical-align: top;\n",
       "    }\n",
       "\n",
       "    .dataframe thead th {\n",
       "        text-align: right;\n",
       "    }\n",
       "</style>\n",
       "<table border=\"1\" class=\"dataframe\">\n",
       "  <thead>\n",
       "    <tr style=\"text-align: right;\">\n",
       "      <th></th>\n",
       "      <th>Цена</th>\n",
       "      <th>Цена за квадрат</th>\n",
       "      <th>Год постройки</th>\n",
       "    </tr>\n",
       "  </thead>\n",
       "  <tbody>\n",
       "    <tr>\n",
       "      <th>count</th>\n",
       "      <td>1.028900e+04</td>\n",
       "      <td>10289.00</td>\n",
       "      <td>8319.00</td>\n",
       "    </tr>\n",
       "    <tr>\n",
       "      <th>mean</th>\n",
       "      <td>5.063152e+07</td>\n",
       "      <td>498353.29</td>\n",
       "      <td>1982.39</td>\n",
       "    </tr>\n",
       "    <tr>\n",
       "      <th>std</th>\n",
       "      <td>1.168605e+08</td>\n",
       "      <td>391735.72</td>\n",
       "      <td>33.08</td>\n",
       "    </tr>\n",
       "    <tr>\n",
       "      <th>min</th>\n",
       "      <td>1.600000e+06</td>\n",
       "      <td>73648.00</td>\n",
       "      <td>1822.00</td>\n",
       "    </tr>\n",
       "    <tr>\n",
       "      <th>25%</th>\n",
       "      <td>1.340000e+07</td>\n",
       "      <td>292809.00</td>\n",
       "      <td>1963.00</td>\n",
       "    </tr>\n",
       "    <tr>\n",
       "      <th>50%</th>\n",
       "      <td>1.990000e+07</td>\n",
       "      <td>372549.00</td>\n",
       "      <td>1980.00</td>\n",
       "    </tr>\n",
       "    <tr>\n",
       "      <th>75%</th>\n",
       "      <td>3.950000e+07</td>\n",
       "      <td>525000.00</td>\n",
       "      <td>2014.00</td>\n",
       "    </tr>\n",
       "    <tr>\n",
       "      <th>max</th>\n",
       "      <td>3.488667e+09</td>\n",
       "      <td>4998082.00</td>\n",
       "      <td>2023.00</td>\n",
       "    </tr>\n",
       "  </tbody>\n",
       "</table>\n",
       "</div>"
      ],
      "text/plain": [
       "               Цена  Цена за квадрат  Год постройки\n",
       "count  1.028900e+04         10289.00        8319.00\n",
       "mean   5.063152e+07        498353.29        1982.39\n",
       "std    1.168605e+08        391735.72          33.08\n",
       "min    1.600000e+06         73648.00        1822.00\n",
       "25%    1.340000e+07        292809.00        1963.00\n",
       "50%    1.990000e+07        372549.00        1980.00\n",
       "75%    3.950000e+07        525000.00        2014.00\n",
       "max    3.488667e+09       4998082.00        2023.00"
      ]
     },
     "execution_count": 17,
     "metadata": {},
     "output_type": "execute_result"
    }
   ],
   "source": [
    "round(df_clean.describe(), 2)"
   ]
  },
  {
   "cell_type": "code",
   "execution_count": 18,
   "id": "75699979-cc1d-4142-8920-03ef5ee844fc",
   "metadata": {},
   "outputs": [
    {
     "data": {
      "text/html": [
       "<div>\n",
       "<style scoped>\n",
       "    .dataframe tbody tr th:only-of-type {\n",
       "        vertical-align: middle;\n",
       "    }\n",
       "\n",
       "    .dataframe tbody tr th {\n",
       "        vertical-align: top;\n",
       "    }\n",
       "\n",
       "    .dataframe thead th {\n",
       "        text-align: right;\n",
       "    }\n",
       "</style>\n",
       "<table border=\"1\" class=\"dataframe\">\n",
       "  <thead>\n",
       "    <tr style=\"text-align: right;\">\n",
       "      <th></th>\n",
       "      <th>Название</th>\n",
       "      <th>Адрес</th>\n",
       "      <th>Метро</th>\n",
       "      <th>Время до метро</th>\n",
       "      <th>Общая площадь</th>\n",
       "      <th>Жилая площадь</th>\n",
       "      <th>Площадь кухни</th>\n",
       "      <th>Этаж</th>\n",
       "      <th>Тип жилья</th>\n",
       "      <th>Высота потолков</th>\n",
       "      <th>...</th>\n",
       "      <th>Вид из окон</th>\n",
       "      <th>Ремонт</th>\n",
       "      <th>Мусоропровод</th>\n",
       "      <th>Количество лифтов</th>\n",
       "      <th>Тип дома</th>\n",
       "      <th>Тип перекрытий</th>\n",
       "      <th>Парковка</th>\n",
       "      <th>Отопление</th>\n",
       "      <th>Балкон/лоджия</th>\n",
       "      <th>Отделка</th>\n",
       "    </tr>\n",
       "  </thead>\n",
       "  <tbody>\n",
       "    <tr>\n",
       "      <th>count</th>\n",
       "      <td>10289</td>\n",
       "      <td>10289</td>\n",
       "      <td>10289</td>\n",
       "      <td>10253</td>\n",
       "      <td>10289</td>\n",
       "      <td>7882</td>\n",
       "      <td>8477</td>\n",
       "      <td>10289</td>\n",
       "      <td>10289</td>\n",
       "      <td>7877</td>\n",
       "      <td>...</td>\n",
       "      <td>7838</td>\n",
       "      <td>8428</td>\n",
       "      <td>4568</td>\n",
       "      <td>7952</td>\n",
       "      <td>8238</td>\n",
       "      <td>7662</td>\n",
       "      <td>6116</td>\n",
       "      <td>7662</td>\n",
       "      <td>5260</td>\n",
       "      <td>1415</td>\n",
       "    </tr>\n",
       "    <tr>\n",
       "      <th>unique</th>\n",
       "      <td>3550</td>\n",
       "      <td>5721</td>\n",
       "      <td>291</td>\n",
       "      <td>30</td>\n",
       "      <td>1954</td>\n",
       "      <td>899</td>\n",
       "      <td>391</td>\n",
       "      <td>967</td>\n",
       "      <td>6</td>\n",
       "      <td>131</td>\n",
       "      <td>...</td>\n",
       "      <td>3</td>\n",
       "      <td>4</td>\n",
       "      <td>2</td>\n",
       "      <td>42</td>\n",
       "      <td>7</td>\n",
       "      <td>4</td>\n",
       "      <td>4</td>\n",
       "      <td>7</td>\n",
       "      <td>19</td>\n",
       "      <td>8</td>\n",
       "    </tr>\n",
       "    <tr>\n",
       "      <th>top</th>\n",
       "      <td>2-комн. квартира, 45 м²</td>\n",
       "      <td>Москва, ЦАО, р-н Арбат, Поварская ул., 8/1к1</td>\n",
       "      <td>Арбатская</td>\n",
       "      <td>6 мин.</td>\n",
       "      <td>45</td>\n",
       "      <td>20</td>\n",
       "      <td>6</td>\n",
       "      <td>2 из 5</td>\n",
       "      <td>Вторичка</td>\n",
       "      <td>2,64 м</td>\n",
       "      <td>...</td>\n",
       "      <td>Во двор</td>\n",
       "      <td>Косметический</td>\n",
       "      <td>Да</td>\n",
       "      <td>1 пассажирский</td>\n",
       "      <td>Монолитный</td>\n",
       "      <td>Железобетонные</td>\n",
       "      <td>Наземная</td>\n",
       "      <td>Центральное</td>\n",
       "      <td>1 балкон</td>\n",
       "      <td>Без отделки</td>\n",
       "    </tr>\n",
       "    <tr>\n",
       "      <th>freq</th>\n",
       "      <td>117</td>\n",
       "      <td>32</td>\n",
       "      <td>143</td>\n",
       "      <td>858</td>\n",
       "      <td>144</td>\n",
       "      <td>214</td>\n",
       "      <td>814</td>\n",
       "      <td>219</td>\n",
       "      <td>7590</td>\n",
       "      <td>1479</td>\n",
       "      <td>...</td>\n",
       "      <td>3918</td>\n",
       "      <td>2706</td>\n",
       "      <td>3599</td>\n",
       "      <td>2433</td>\n",
       "      <td>3524</td>\n",
       "      <td>5545</td>\n",
       "      <td>3302</td>\n",
       "      <td>6282</td>\n",
       "      <td>2500</td>\n",
       "      <td>833</td>\n",
       "    </tr>\n",
       "  </tbody>\n",
       "</table>\n",
       "<p>4 rows × 21 columns</p>\n",
       "</div>"
      ],
      "text/plain": [
       "                       Название                                         Адрес  \\\n",
       "count                     10289                                         10289   \n",
       "unique                     3550                                          5721   \n",
       "top     2-комн. квартира, 45 м²  Москва, ЦАО, р-н Арбат, Поварская ул., 8/1к1   \n",
       "freq                        117                                            32   \n",
       "\n",
       "            Метро Время до метро Общая площадь Жилая площадь Площадь кухни  \\\n",
       "count       10289          10253         10289          7882          8477   \n",
       "unique        291             30          1954           899           391   \n",
       "top     Арбатская         6 мин.            45            20             6   \n",
       "freq          143            858           144           214           814   \n",
       "\n",
       "          Этаж Тип жилья Высота потолков  ... Вид из окон         Ремонт  \\\n",
       "count    10289     10289            7877  ...        7838           8428   \n",
       "unique     967         6             131  ...           3              4   \n",
       "top     2 из 5  Вторичка          2,64 м  ...     Во двор  Косметический   \n",
       "freq       219      7590            1479  ...        3918           2706   \n",
       "\n",
       "       Мусоропровод Количество лифтов    Тип дома  Тип перекрытий  Парковка  \\\n",
       "count          4568              7952        8238            7662      6116   \n",
       "unique            2                42           7               4         4   \n",
       "top              Да    1 пассажирский  Монолитный  Железобетонные  Наземная   \n",
       "freq           3599              2433        3524            5545      3302   \n",
       "\n",
       "          Отопление Балкон/лоджия      Отделка  \n",
       "count          7662          5260         1415  \n",
       "unique            7            19            8  \n",
       "top     Центральное      1 балкон  Без отделки  \n",
       "freq           6282          2500          833  \n",
       "\n",
       "[4 rows x 21 columns]"
      ]
     },
     "execution_count": 18,
     "metadata": {},
     "output_type": "execute_result"
    }
   ],
   "source": [
    "df_clean.describe(include=[\"object\", \"bool\"])"
   ]
  },
  {
   "cell_type": "markdown",
   "id": "6cc9ead7-b1e5-48e2-a7f5-262df7acff9d",
   "metadata": {},
   "source": [
    "## Жилая площадь, Площадь кухни, Общая площадь, Высота потолков."
   ]
  },
  {
   "cell_type": "markdown",
   "id": "fb7b34a1-8e4c-45a0-9430-e06e26ec7c35",
   "metadata": {},
   "source": [
    "<br>\n",
    "Заменю все запятые на точки и удалю лишние пробелы.\n",
    "<br>\n",
    "<br>"
   ]
  },
  {
   "cell_type": "code",
   "execution_count": 19,
   "id": "ab36404b-bdf2-4269-aa77-f8ef3e10333c",
   "metadata": {},
   "outputs": [],
   "source": [
    "def replace_comma(\n",
    "    data: pd.DataFrame, lst: list, inplace_true: bool = False\n",
    ") -> pd.DataFrame:\n",
    "    \"\"\"\n",
    "    Замена запятых на точки в столбцах и удаление лишних символов (\\xa0)\n",
    "    :param data: дата фрейм\n",
    "    :param lst: список из названий колонок\n",
    "    :param inplace_true: True - изменения сразу применятся к data, Fasle - создается новый дата фрейм\n",
    "    \"\"\"\n",
    "    data_new = data.copy()\n",
    "    data_new[lst] = (\n",
    "        data[lst]\n",
    "        .apply(lambda x: x.str.split(\"\\xa0\").str[0].str.replace(\",\", \".\").astype(float))\n",
    "        .copy()\n",
    "    )\n",
    "    if inplace_true == True:\n",
    "        data = data_new.copy()\n",
    "        return data\n",
    "    else:\n",
    "        return data_new"
   ]
  },
  {
   "cell_type": "code",
   "execution_count": 20,
   "id": "b745fc3c-08c7-4598-9823-41a04d87a7b1",
   "metadata": {
    "scrolled": true
   },
   "outputs": [],
   "source": [
    "df_clean = replace_comma(\n",
    "    df_clean, [\"Жилая площадь\", \"Площадь кухни\", \"Общая площадь\", \"Высота потолков\"]\n",
    ").copy()"
   ]
  },
  {
   "cell_type": "markdown",
   "id": "76284ded-a48b-489e-9dfe-6e014a11fe72",
   "metadata": {},
   "source": [
    "## Время до метро."
   ]
  },
  {
   "cell_type": "markdown",
   "id": "9635deff-58b8-4d2a-9253-5812273d39b2",
   "metadata": {},
   "source": [
    "Удалю лишние символы."
   ]
  },
  {
   "cell_type": "code",
   "execution_count": 21,
   "id": "02ec0886-ce8a-4010-9fa1-aaa273eb34a2",
   "metadata": {},
   "outputs": [],
   "source": [
    "df_clean[\"Время до метро\"] = df_clean[\"Время до метро\"].str.split(\" \").str[0].copy()"
   ]
  },
  {
   "cell_type": "code",
   "execution_count": 22,
   "id": "cbddfc30-818c-4a88-ac9f-ccab9c2fbd2f",
   "metadata": {},
   "outputs": [],
   "source": [
    "df_clean[\"Время до метро\"] = pd.to_numeric(df_clean[\"Время до метро\"], errors=\"coerce\")"
   ]
  },
  {
   "cell_type": "markdown",
   "id": "5bf32b68-3edb-4a2e-9e30-3faaba6d53b8",
   "metadata": {},
   "source": [
    "## Санузел, Количество лифтов, Балкон/лоджия"
   ]
  },
  {
   "cell_type": "markdown",
   "id": "980226f0-31f2-47ee-a3da-864d48afd66c",
   "metadata": {},
   "source": [
    "Удалим тип санузлов, лифтов и балконов и оставим их количество, чтобы избавиться от большого кол-ва уникальных значений. И преобразуем признаки в числовой тип."
   ]
  },
  {
   "cell_type": "code",
   "execution_count": 23,
   "id": "da900da0-2fdb-41ec-a280-87fe3d94badc",
   "metadata": {},
   "outputs": [],
   "source": [
    "def sum_obj(obj: pd.Series) -> pd.Series:\n",
    "    \"\"\"\n",
    "    Удаление лишней информации из значений признака и преобразование в числовой тип.\n",
    "    :param obj: колонка из дата фрейма.\n",
    "    \"\"\"\n",
    "\n",
    "    temp_obj_1 = pd.to_numeric(obj.str.split(\" \", expand=True)[0], errors=\"coerce\")\n",
    "    temp_obj_2 = pd.to_numeric(obj.str.split(\" \", expand=True)[2], errors=\"coerce\")\n",
    "    temp = pd.concat([temp_obj_1, temp_obj_2], axis=1)\n",
    "    temp = temp.sum(axis=1, min_count=1).astype(\"Int64\")\n",
    "    return temp"
   ]
  },
  {
   "cell_type": "code",
   "execution_count": 24,
   "id": "27d515e7-48b0-49e3-8be3-4143efd375f1",
   "metadata": {},
   "outputs": [],
   "source": [
    "df_clean[[\"Санузел\", \"Количество лифтов\", \"Балкон/лоджия\"]] = df_clean[\n",
    "    [\"Санузел\", \"Количество лифтов\", \"Балкон/лоджия\"]\n",
    "].apply(sum_obj)"
   ]
  },
  {
   "cell_type": "markdown",
   "id": "a337bf81-201b-4eb2-bbc2-c1e959843881",
   "metadata": {},
   "source": [
    "## Этаж"
   ]
  },
  {
   "cell_type": "markdown",
   "id": "86415dfe-50ad-43e1-8789-3fedfe2a1e77",
   "metadata": {},
   "source": [
    "Разделим этажи на 2 признака: Этаж и Этажность здания."
   ]
  },
  {
   "cell_type": "code",
   "execution_count": 25,
   "id": "a529c6c8-a69b-402a-9cfd-f30b1b1f9c1f",
   "metadata": {},
   "outputs": [],
   "source": [
    "floor = df_clean[\"Этаж\"].str.split(\" из \", expand=True)"
   ]
  },
  {
   "cell_type": "code",
   "execution_count": 26,
   "id": "b1ec979e-a407-47e0-a752-02b1291fa801",
   "metadata": {},
   "outputs": [],
   "source": [
    "df_clean[\"Этаж\"] = floor[0]"
   ]
  },
  {
   "cell_type": "code",
   "execution_count": 27,
   "id": "4255e982-1e92-44fb-a5c3-512e85cc3382",
   "metadata": {},
   "outputs": [],
   "source": [
    "df_clean[\"Этажность здания\"] = floor[1]"
   ]
  },
  {
   "cell_type": "code",
   "execution_count": 28,
   "id": "38a44570-51a6-48c2-99ae-f2c4c2d7aed6",
   "metadata": {},
   "outputs": [],
   "source": [
    "df_clean[\"Этаж\"] = pd.to_numeric(df_clean[\"Этаж\"], errors=\"coerce\")"
   ]
  },
  {
   "cell_type": "markdown",
   "id": "11618183-7871-48b3-9b45-36b72eb42b5a",
   "metadata": {},
   "source": [
    "## Кол-во комнат"
   ]
  },
  {
   "cell_type": "markdown",
   "id": "0f8ba3bb-b362-4aca-bc30-2b4a97ba86de",
   "metadata": {},
   "source": [
    "Добавим признак \"Кол-во комнат\". И так как нас интересуют квартиры с кол-вом комнат до 5 включительно для постоянного проживания, то удалим квартиры с большим кол-вом комнат и апартаменты."
   ]
  },
  {
   "cell_type": "code",
   "execution_count": 29,
   "id": "07cd7e2c-2f1e-477c-8d90-b0d5ef662418",
   "metadata": {},
   "outputs": [],
   "source": [
    "df_clean[\"Кол-во комнат\"] = (\n",
    "    df_clean[\"Название\"].str.split(\" \", expand=True)[0].str.split(\"-\", expand=True)[0]\n",
    ")"
   ]
  },
  {
   "cell_type": "code",
   "execution_count": 30,
   "id": "3fbfc82f-ece8-4373-8539-ec9e43fc498d",
   "metadata": {
    "scrolled": true
   },
   "outputs": [
    {
     "data": {
      "text/plain": [
       "Кол-во комнат\n",
       "2                 0.327729\n",
       "3                 0.268150\n",
       "1                 0.216834\n",
       "4                 0.083584\n",
       "Апартаменты       0.030810\n",
       "5                 0.029546\n",
       "Студия,           0.028671\n",
       "Многокомнатная    0.012732\n",
       "Многокомнатные    0.001944\n",
       "Name: proportion, dtype: float64"
      ]
     },
     "execution_count": 30,
     "metadata": {},
     "output_type": "execute_result"
    }
   ],
   "source": [
    "df_clean[\"Кол-во комнат\"].value_counts(normalize=True)"
   ]
  },
  {
   "cell_type": "code",
   "execution_count": 31,
   "id": "716a7897-9ea6-4909-89f6-0e4830e5c10e",
   "metadata": {},
   "outputs": [],
   "source": [
    "def drop_rooms(data: pd.DataFrame, col: str) -> pd.Series:\n",
    "    \"\"\"\n",
    "    Удаление лишних уникальных значений в признаке 'Кол-во комнат', квартиры с большим кол-вом комнат и апартаменты.\n",
    "    :param data: Датасет\n",
    "    :param col: Название колонки \"кол-во комнат\"\n",
    "    \"\"\"\n",
    "    to_drop = (\n",
    "        data[col]\n",
    "        .loc[\n",
    "            lambda x: (x == \"Многокомнатная\")\n",
    "            | (x == \"Многокомнатные\")\n",
    "            | (x == \"Апартаменты\")\n",
    "        ]\n",
    "        .index\n",
    "    )\n",
    "    data_new = data.drop(index=to_drop).copy()\n",
    "    data_new[col][data_new[col] == \"Студия,\"] = 1\n",
    "    data_new[col] = pd.to_numeric(data_new[col], errors=\"coerce\")\n",
    "    return data_new"
   ]
  },
  {
   "cell_type": "code",
   "execution_count": 32,
   "id": "156b474e-163e-4730-83ce-05030a17f494",
   "metadata": {},
   "outputs": [],
   "source": [
    "df_clean = drop_rooms(df_clean, \"Кол-во комнат\")"
   ]
  },
  {
   "cell_type": "code",
   "execution_count": 33,
   "id": "a0a0328e-1ec3-4657-93f9-57b372063ca3",
   "metadata": {},
   "outputs": [],
   "source": [
    "df_clean =df_clean.drop(columns=['Название']) "
   ]
  },
  {
   "cell_type": "markdown",
   "id": "52279e87-ebdc-4062-8335-5f58922a1856",
   "metadata": {},
   "source": [
    "## Тип Жилья"
   ]
  },
  {
   "cell_type": "markdown",
   "id": "b05d0eab-0ae9-4b5a-941f-ca79b99fc9cd",
   "metadata": {},
   "source": [
    "Уберем лишнюю информацию для снижения количества уникальных значений."
   ]
  },
  {
   "cell_type": "code",
   "execution_count": 34,
   "id": "1403d906-a78c-4308-a2e2-c5312ea96708",
   "metadata": {},
   "outputs": [
    {
     "data": {
      "text/plain": [
       "Тип жилья\n",
       "Вторичка                   7478\n",
       "Новостройка                1281\n",
       "Вторичка Апартаменты        814\n",
       "Новостройка Апартаменты     194\n",
       "Вторичка Пентхаус            29\n",
       "Новостройка Пентхаус         25\n",
       "Name: count, dtype: int64"
      ]
     },
     "execution_count": 34,
     "metadata": {},
     "output_type": "execute_result"
    }
   ],
   "source": [
    "df_clean[\"Тип жилья\"].value_counts()"
   ]
  },
  {
   "cell_type": "code",
   "execution_count": 35,
   "id": "e7b3cd91-d2b2-4ed5-924d-e0b5fa80257e",
   "metadata": {},
   "outputs": [],
   "source": [
    "df_clean[\"Тип жилья\"] = df_clean[\"Тип жилья\"].str.split(\" \").str[0]"
   ]
  },
  {
   "cell_type": "markdown",
   "id": "f7e0b56f-e936-4d63-a719-5563d94f2c24",
   "metadata": {},
   "source": [
    "## Заполнение пропусков."
   ]
  },
  {
   "cell_type": "code",
   "execution_count": 36,
   "id": "13ec1a79-44d8-43ee-820e-c2f721d76786",
   "metadata": {},
   "outputs": [
    {
     "name": "stdout",
     "output_type": "stream",
     "text": [
      "<class 'pandas.core.frame.DataFrame'>\n",
      "Index: 9821 entries, 0 to 10288\n",
      "Data columns (total 25 columns):\n",
      " #   Column             Non-Null Count  Dtype  \n",
      "---  ------             --------------  -----  \n",
      " 0   Адрес              9821 non-null   object \n",
      " 1   Метро              9821 non-null   object \n",
      " 2   Время до метро     9792 non-null   float64\n",
      " 3   Цена               9821 non-null   float64\n",
      " 4   Цена за квадрат    9821 non-null   float64\n",
      " 5   Общая площадь      9821 non-null   float64\n",
      " 6   Жилая площадь      7590 non-null   float64\n",
      " 7   Площадь кухни      8213 non-null   float64\n",
      " 8   Этаж               9821 non-null   int64  \n",
      " 9   Год постройки      8000 non-null   float64\n",
      " 10  Тип жилья          9821 non-null   object \n",
      " 11  Высота потолков    7563 non-null   float64\n",
      " 12  Санузел            8609 non-null   Int64  \n",
      " 13  Вид из окон        7486 non-null   object \n",
      " 14  Ремонт             8004 non-null   object \n",
      " 15  Мусоропровод       4455 non-null   object \n",
      " 16  Количество лифтов  7695 non-null   Int64  \n",
      " 17  Тип дома           7847 non-null   object \n",
      " 18  Тип перекрытий     7434 non-null   object \n",
      " 19  Парковка           5837 non-null   object \n",
      " 20  Отопление          7434 non-null   object \n",
      " 21  Балкон/лоджия      5163 non-null   Int64  \n",
      " 22  Отделка            1378 non-null   object \n",
      " 23  Этажность здания   9821 non-null   object \n",
      " 24  Кол-во комнат      9821 non-null   int64  \n",
      "dtypes: Int64(3), float64(8), int64(2), object(12)\n",
      "memory usage: 2.0+ MB\n"
     ]
    }
   ],
   "source": [
    "df_clean.info()"
   ]
  },
  {
   "cell_type": "markdown",
   "id": "c1465ef4-7a6c-40ac-8e12-5af54adba772",
   "metadata": {},
   "source": [
    "### Время до метро"
   ]
  },
  {
   "cell_type": "code",
   "execution_count": 37,
   "id": "8e2e0a2e-06df-47cf-b700-853c5d72ba5e",
   "metadata": {},
   "outputs": [],
   "source": [
    "df_clean[\"Время до метро\"] = df_clean[\"Время до метро\"].fillna(\n",
    "        df_clean[\"Время до метро\"].median()\n",
    "    )\n",
    "df_clean[\"Время до метро\"] = df_clean[\"Время до метро\"].copy().astype(int)"
   ]
  },
  {
   "cell_type": "markdown",
   "id": "207afa32-fed1-494b-84bb-f90db44def71",
   "metadata": {},
   "source": [
    "### Жилая площадь, Площадь кухни"
   ]
  },
  {
   "cell_type": "markdown",
   "id": "9f304686-6017-44de-9756-63b1f6e05740",
   "metadata": {},
   "source": [
    "Расчитаем медианное значение соотношения площадей жилых и кухни к общей площади и заполним ими пропуски.\n"
   ]
  },
  {
   "cell_type": "code",
   "execution_count": 38,
   "id": "8585c681-c082-44fa-8351-9af5d347d996",
   "metadata": {},
   "outputs": [],
   "source": [
    "def ar_part(data: pd.DataFrame, col: str, main_col: str) -> pd.Series:\n",
    "    \"\"\"\n",
    "    Заполнение пропусков в зависимости от отношения площади признака от общей площади.\n",
    "    :param data: датасет\n",
    "    :param col: Название колонки площади необходимого признака.\n",
    "    :param main_col: Название колонки общей площади.\n",
    "    \"\"\"\n",
    "    part = round((data[col] / data[main_col]).median(), 2)\n",
    "    col_new = data[col].fillna(data[main_col] * part)\n",
    "    return col_new"
   ]
  },
  {
   "cell_type": "code",
   "execution_count": 39,
   "id": "c486bff1-83e5-45d1-8c21-f3ff4c83e9f5",
   "metadata": {},
   "outputs": [],
   "source": [
    "for i in df_clean[[\"Жилая площадь\", \"Площадь кухни\"]]:\n",
    "    df_clean[i] = ar_part(df_clean, i, \"Общая площадь\")"
   ]
  },
  {
   "cell_type": "markdown",
   "id": "7984d7ac-62dd-4887-9b50-85c7f702b26a",
   "metadata": {},
   "source": [
    "Расчитаем медианное значение соотношения площади кухни к общей площади и заполним им пропуски.\n"
   ]
  },
  {
   "cell_type": "markdown",
   "id": "9ec0d7e5-b960-4d15-a2ff-ce39e9c17f28",
   "metadata": {},
   "source": [
    "### Год постройки"
   ]
  },
  {
   "cell_type": "markdown",
   "id": "4c2fb506-d39c-4736-8de1-8cdb0bc55ea3",
   "metadata": {},
   "source": [
    "Все пропуски обозначают то что дом еще не сдан, и будет сдан либо в текущем году либо в следующем. Заполню пропуски следющим годом."
   ]
  },
  {
   "cell_type": "code",
   "execution_count": 40,
   "id": "2f5f6d97-6432-4ebc-8836-33a654ea3989",
   "metadata": {},
   "outputs": [],
   "source": [
    "currentYear = datetime.now().year"
   ]
  },
  {
   "cell_type": "code",
   "execution_count": 41,
   "id": "c8c798a8-6b46-499d-9e42-60ad17b73d6b",
   "metadata": {},
   "outputs": [],
   "source": [
    "df_clean[\"Год постройки\"] = (\n",
    "    df_clean[\"Год постройки\"].fillna(currentYear + 1).astype(int)\n",
    ")"
   ]
  },
  {
   "cell_type": "markdown",
   "id": "3eb82ace-b143-43c2-a97f-662a508fa765",
   "metadata": {},
   "source": [
    "### Санузел , Балкон/лоджия."
   ]
  },
  {
   "cell_type": "code",
   "execution_count": 42,
   "id": "6e018194-00a9-4cf4-94b5-2e47990c5f46",
   "metadata": {},
   "outputs": [],
   "source": [
    "def replace_group(data: pd.DataFrame, main_col: str, col_1: str, col_2: str):\n",
    "    \"\"\"\n",
    "    Заполнение модой через groupby.\n",
    "    :param data: Дата фрейм\n",
    "    :param main_col: Название колонки по которой идет группировка\n",
    "    :param col_1: Название колонки в которой происходит заполнение пустых значений\n",
    "    :param col_2: Название колонки в которой происходит заполнение пустых значений\n",
    "    \"\"\"\n",
    "    for col in data[[col_1, col_2]]:\n",
    "        data[col] = data[col].fillna(\n",
    "            data.groupby(main_col)[col].transform(lambda x: x.mode()[0])\n",
    "        )\n",
    "        data[col] = data[col].astype(int)\n",
    "    data_new = data.copy()\n",
    "    return data_new"
   ]
  },
  {
   "cell_type": "code",
   "execution_count": 43,
   "id": "b4a57f4c-f1b0-4370-b3cf-3481e86bddf0",
   "metadata": {},
   "outputs": [],
   "source": [
    "df_clean = replace_group(df_clean, \"Кол-во комнат\", \"Санузел\", \"Балкон/лоджия\").copy()"
   ]
  },
  {
   "cell_type": "markdown",
   "id": "9d86cc32-6d5b-4b0b-ae88-11016486fafd",
   "metadata": {},
   "source": [
    "### Количество лифтов"
   ]
  },
  {
   "cell_type": "code",
   "execution_count": 44,
   "id": "afccc68c-ac4f-4713-9608-8c2a17127a71",
   "metadata": {},
   "outputs": [],
   "source": [
    "def replace_elev(row: pd.Series) -> int:\n",
    "    \"\"\"\n",
    "    Заполнение пропусков в признаке кол-во лифтов в зависимости от этажности здания согласно СНиП 31-01-2003\n",
    "    :param row: строка дата фрейма.\n",
    "    \"\"\"\n",
    "\n",
    "    if row[\"Количество лифтов\"] == 0:\n",
    "        floors = int(row[\"Этажность здания\"])\n",
    "        if floors < 6:\n",
    "            return 0\n",
    "        elif floors < 10:\n",
    "            return 1\n",
    "        elif floors < 20:\n",
    "            return 2\n",
    "        elif floors < 25:\n",
    "            return 3\n",
    "        else:\n",
    "            return 4\n",
    "    else:\n",
    "        return row[\"Количество лифтов\"]"
   ]
  },
  {
   "cell_type": "code",
   "execution_count": 45,
   "id": "04925eb3-86e8-4d2d-be8e-6eecd61c1c15",
   "metadata": {},
   "outputs": [],
   "source": [
    "df_clean[\"Количество лифтов\"].fillna(0, inplace=True)"
   ]
  },
  {
   "cell_type": "code",
   "execution_count": 46,
   "id": "77613250-4406-48b1-b891-3fff9a442f1b",
   "metadata": {},
   "outputs": [],
   "source": [
    "df_clean[\"Количество лифтов\"] = df_clean[\"Количество лифтов\"].astype(int)"
   ]
  },
  {
   "cell_type": "code",
   "execution_count": 47,
   "id": "55ca7fd6-5018-4363-acd9-334ba9a032c7",
   "metadata": {},
   "outputs": [],
   "source": [
    "df_clean[\"Этажность здания\"] = df_clean[\"Этажность здания\"].astype(int)"
   ]
  },
  {
   "cell_type": "code",
   "execution_count": 48,
   "id": "8b665477-13cf-4475-96a9-4d55b1971372",
   "metadata": {
    "scrolled": true
   },
   "outputs": [],
   "source": [
    "df_clean[\"Количество лифтов\"] = df_clean.apply(lambda row: replace_elev(row), axis=1)"
   ]
  },
  {
   "cell_type": "markdown",
   "id": "21304147-79b5-4206-b8d1-9f5bde2da380",
   "metadata": {},
   "source": [
    "### Высота потолков."
   ]
  },
  {
   "cell_type": "markdown",
   "id": "efe0fb21-5509-4bd5-b1d0-70bfe13d0e1b",
   "metadata": {},
   "source": [
    "Заполню медианным значением так как есть выбросы."
   ]
  },
  {
   "cell_type": "code",
   "execution_count": 49,
   "id": "3000b500-ea9f-4a95-8601-83e3d65cd8af",
   "metadata": {},
   "outputs": [],
   "source": [
    "df_clean[\"Высота потолков\"] = df_clean[\"Высота потолков\"].fillna(\n",
    "    df_clean[\"Высота потолков\"].median()\n",
    ")"
   ]
  },
  {
   "cell_type": "markdown",
   "id": "071f0dce-25f2-49fd-8992-eef5e25d95f0",
   "metadata": {},
   "source": [
    "### Отделка."
   ]
  },
  {
   "cell_type": "markdown",
   "id": "50ce1907-dfa5-460b-ab3f-f4db4bcb69ed",
   "metadata": {},
   "source": [
    "Здесь много пропусков, и вообще отделка больше относится к новостройкам. Но также есть и вторички, которые продают с голыми стенами, соответственно, отделка здесь уже будет играть роль. Заменю пропуски на \"Неизвестно\"."
   ]
  },
  {
   "cell_type": "code",
   "execution_count": 50,
   "id": "09b1806e-b709-43ab-b2eb-8a58697cd88e",
   "metadata": {},
   "outputs": [
    {
     "data": {
      "text/plain": [
       "Отделка\n",
       "Без отделки           812\n",
       "Чистовая              375\n",
       "Предчистовая           77\n",
       "Черновая               42\n",
       "Неизвестно             41\n",
       "С отделкой             25\n",
       "Под ключ                4\n",
       "Чистовая с мебелью      2\n",
       "Name: count, dtype: int64"
      ]
     },
     "execution_count": 50,
     "metadata": {},
     "output_type": "execute_result"
    }
   ],
   "source": [
    "df_clean[\"Отделка\"].value_counts()"
   ]
  },
  {
   "cell_type": "code",
   "execution_count": 51,
   "id": "47c5b4b0-1a18-488c-a924-eb840f2426eb",
   "metadata": {},
   "outputs": [],
   "source": [
    "df_clean[\"Отделка\"] = df_clean[\"Отделка\"].fillna(\"Неизвестно\")"
   ]
  },
  {
   "cell_type": "markdown",
   "id": "99ba8336-ffd8-4ab6-bfbf-a6ab30028c86",
   "metadata": {},
   "source": [
    "### Другие категориальные признаки."
   ]
  },
  {
   "cell_type": "markdown",
   "id": "aeacc935-27fb-4c8d-9029-7e8fd966518e",
   "metadata": {},
   "source": [
    "Заполню остальные категориальные признаки модой."
   ]
  },
  {
   "cell_type": "code",
   "execution_count": 52,
   "id": "8bfe7aec-eb2f-419f-8d09-7cc7c5c8460a",
   "metadata": {},
   "outputs": [],
   "source": [
    "to_fill = df_clean[\n",
    "    [\n",
    "        \"Отопление\",\n",
    "        \"Вид из окон\",\n",
    "        \"Ремонт\",\n",
    "        \"Тип дома\",\n",
    "        \"Тип перекрытий\",\n",
    "        \"Парковка\",\n",
    "        \"Мусоропровод\",\n",
    "    ]\n",
    "]"
   ]
  },
  {
   "cell_type": "code",
   "execution_count": 53,
   "id": "fd90d7c1-0f75-4087-86f6-89c537f286fc",
   "metadata": {},
   "outputs": [],
   "source": [
    "for column in to_fill:\n",
    "    df_clean[column] = df_clean[column].fillna(df_clean[column].mode()[0])"
   ]
  },
  {
   "cell_type": "code",
   "execution_count": 54,
   "id": "389bf026-64d7-4b02-9b95-9d04fcfd6ad4",
   "metadata": {},
   "outputs": [
    {
     "name": "stdout",
     "output_type": "stream",
     "text": [
      "<class 'pandas.core.frame.DataFrame'>\n",
      "Index: 9821 entries, 0 to 10288\n",
      "Data columns (total 25 columns):\n",
      " #   Column             Non-Null Count  Dtype  \n",
      "---  ------             --------------  -----  \n",
      " 0   Адрес              9821 non-null   object \n",
      " 1   Метро              9821 non-null   object \n",
      " 2   Время до метро     9821 non-null   int32  \n",
      " 3   Цена               9821 non-null   float64\n",
      " 4   Цена за квадрат    9821 non-null   float64\n",
      " 5   Общая площадь      9821 non-null   float64\n",
      " 6   Жилая площадь      9821 non-null   float64\n",
      " 7   Площадь кухни      9821 non-null   float64\n",
      " 8   Этаж               9821 non-null   int64  \n",
      " 9   Год постройки      9821 non-null   int32  \n",
      " 10  Тип жилья          9821 non-null   object \n",
      " 11  Высота потолков    9821 non-null   float64\n",
      " 12  Санузел            9821 non-null   int32  \n",
      " 13  Вид из окон        9821 non-null   object \n",
      " 14  Ремонт             9821 non-null   object \n",
      " 15  Мусоропровод       9821 non-null   object \n",
      " 16  Количество лифтов  9821 non-null   int64  \n",
      " 17  Тип дома           9821 non-null   object \n",
      " 18  Тип перекрытий     9821 non-null   object \n",
      " 19  Парковка           9821 non-null   object \n",
      " 20  Отопление          9821 non-null   object \n",
      " 21  Балкон/лоджия      9821 non-null   int32  \n",
      " 22  Отделка            9821 non-null   object \n",
      " 23  Этажность здания   9821 non-null   int32  \n",
      " 24  Кол-во комнат      9821 non-null   int64  \n",
      "dtypes: float64(6), int32(5), int64(3), object(11)\n",
      "memory usage: 1.8+ MB\n"
     ]
    }
   ],
   "source": [
    "df_clean.info()"
   ]
  },
  {
   "cell_type": "code",
   "execution_count": 55,
   "id": "3b6bc51c-4f67-466e-8bbc-8c5ef77a00f3",
   "metadata": {},
   "outputs": [
    {
     "data": {
      "text/html": [
       "<div>\n",
       "<style scoped>\n",
       "    .dataframe tbody tr th:only-of-type {\n",
       "        vertical-align: middle;\n",
       "    }\n",
       "\n",
       "    .dataframe tbody tr th {\n",
       "        vertical-align: top;\n",
       "    }\n",
       "\n",
       "    .dataframe thead th {\n",
       "        text-align: right;\n",
       "    }\n",
       "</style>\n",
       "<table border=\"1\" class=\"dataframe\">\n",
       "  <thead>\n",
       "    <tr style=\"text-align: right;\">\n",
       "      <th></th>\n",
       "      <th>Время до метро</th>\n",
       "      <th>Цена</th>\n",
       "      <th>Цена за квадрат</th>\n",
       "      <th>Общая площадь</th>\n",
       "      <th>Жилая площадь</th>\n",
       "      <th>Площадь кухни</th>\n",
       "      <th>Этаж</th>\n",
       "      <th>Год постройки</th>\n",
       "      <th>Высота потолков</th>\n",
       "      <th>Санузел</th>\n",
       "      <th>Количество лифтов</th>\n",
       "      <th>Балкон/лоджия</th>\n",
       "      <th>Этажность здания</th>\n",
       "      <th>Кол-во комнат</th>\n",
       "    </tr>\n",
       "  </thead>\n",
       "  <tbody>\n",
       "    <tr>\n",
       "      <th>count</th>\n",
       "      <td>9821.000000</td>\n",
       "      <td>9.821000e+03</td>\n",
       "      <td>9.821000e+03</td>\n",
       "      <td>9821.000000</td>\n",
       "      <td>9821.000000</td>\n",
       "      <td>9821.000000</td>\n",
       "      <td>9821.000000</td>\n",
       "      <td>9821.000000</td>\n",
       "      <td>9821.000000</td>\n",
       "      <td>9821.000000</td>\n",
       "      <td>9821.000000</td>\n",
       "      <td>9821.000000</td>\n",
       "      <td>9821.000000</td>\n",
       "      <td>9821.000000</td>\n",
       "    </tr>\n",
       "    <tr>\n",
       "      <th>mean</th>\n",
       "      <td>9.411567</td>\n",
       "      <td>4.659237e+07</td>\n",
       "      <td>4.927128e+05</td>\n",
       "      <td>72.745768</td>\n",
       "      <td>42.658307</td>\n",
       "      <td>12.481586</td>\n",
       "      <td>8.189594</td>\n",
       "      <td>1990.434579</td>\n",
       "      <td>2.936179</td>\n",
       "      <td>1.356888</td>\n",
       "      <td>2.020568</td>\n",
       "      <td>1.102230</td>\n",
       "      <td>15.777314</td>\n",
       "      <td>2.291722</td>\n",
       "    </tr>\n",
       "    <tr>\n",
       "      <th>std</th>\n",
       "      <td>5.222118</td>\n",
       "      <td>9.029864e+07</td>\n",
       "      <td>3.816172e+05</td>\n",
       "      <td>51.422336</td>\n",
       "      <td>31.805155</td>\n",
       "      <td>8.809804</td>\n",
       "      <td>7.782657</td>\n",
       "      <td>33.306659</td>\n",
       "      <td>0.627947</td>\n",
       "      <td>0.682939</td>\n",
       "      <td>1.615727</td>\n",
       "      <td>0.365988</td>\n",
       "      <td>11.757963</td>\n",
       "      <td>1.040191</td>\n",
       "    </tr>\n",
       "    <tr>\n",
       "      <th>min</th>\n",
       "      <td>1.000000</td>\n",
       "      <td>2.390000e+06</td>\n",
       "      <td>7.364800e+04</td>\n",
       "      <td>11.000000</td>\n",
       "      <td>3.000000</td>\n",
       "      <td>1.000000</td>\n",
       "      <td>-1.000000</td>\n",
       "      <td>1822.000000</td>\n",
       "      <td>0.000000</td>\n",
       "      <td>1.000000</td>\n",
       "      <td>0.000000</td>\n",
       "      <td>1.000000</td>\n",
       "      <td>2.000000</td>\n",
       "      <td>1.000000</td>\n",
       "    </tr>\n",
       "    <tr>\n",
       "      <th>25%</th>\n",
       "      <td>5.000000</td>\n",
       "      <td>1.360000e+07</td>\n",
       "      <td>2.916670e+05</td>\n",
       "      <td>42.000000</td>\n",
       "      <td>23.000000</td>\n",
       "      <td>7.000000</td>\n",
       "      <td>3.000000</td>\n",
       "      <td>1967.000000</td>\n",
       "      <td>2.700000</td>\n",
       "      <td>1.000000</td>\n",
       "      <td>1.000000</td>\n",
       "      <td>1.000000</td>\n",
       "      <td>8.000000</td>\n",
       "      <td>1.000000</td>\n",
       "    </tr>\n",
       "    <tr>\n",
       "      <th>50%</th>\n",
       "      <td>9.000000</td>\n",
       "      <td>2.000000e+07</td>\n",
       "      <td>3.705880e+05</td>\n",
       "      <td>58.000000</td>\n",
       "      <td>33.700000</td>\n",
       "      <td>10.000000</td>\n",
       "      <td>6.000000</td>\n",
       "      <td>2000.000000</td>\n",
       "      <td>2.870000</td>\n",
       "      <td>1.000000</td>\n",
       "      <td>2.000000</td>\n",
       "      <td>1.000000</td>\n",
       "      <td>12.000000</td>\n",
       "      <td>2.000000</td>\n",
       "    </tr>\n",
       "    <tr>\n",
       "      <th>75%</th>\n",
       "      <td>13.000000</td>\n",
       "      <td>3.890000e+07</td>\n",
       "      <td>5.206400e+05</td>\n",
       "      <td>82.800000</td>\n",
       "      <td>50.000000</td>\n",
       "      <td>15.000000</td>\n",
       "      <td>11.000000</td>\n",
       "      <td>2022.000000</td>\n",
       "      <td>3.000000</td>\n",
       "      <td>2.000000</td>\n",
       "      <td>3.000000</td>\n",
       "      <td>1.000000</td>\n",
       "      <td>20.000000</td>\n",
       "      <td>3.000000</td>\n",
       "    </tr>\n",
       "    <tr>\n",
       "      <th>max</th>\n",
       "      <td>30.000000</td>\n",
       "      <td>1.910410e+09</td>\n",
       "      <td>4.998082e+06</td>\n",
       "      <td>705.000000</td>\n",
       "      <td>450.000000</td>\n",
       "      <td>136.500000</td>\n",
       "      <td>82.000000</td>\n",
       "      <td>2024.000000</td>\n",
       "      <td>31.000000</td>\n",
       "      <td>7.000000</td>\n",
       "      <td>28.000000</td>\n",
       "      <td>6.000000</td>\n",
       "      <td>95.000000</td>\n",
       "      <td>5.000000</td>\n",
       "    </tr>\n",
       "  </tbody>\n",
       "</table>\n",
       "</div>"
      ],
      "text/plain": [
       "       Время до метро          Цена  Цена за квадрат  Общая площадь  \\\n",
       "count     9821.000000  9.821000e+03     9.821000e+03    9821.000000   \n",
       "mean         9.411567  4.659237e+07     4.927128e+05      72.745768   \n",
       "std          5.222118  9.029864e+07     3.816172e+05      51.422336   \n",
       "min          1.000000  2.390000e+06     7.364800e+04      11.000000   \n",
       "25%          5.000000  1.360000e+07     2.916670e+05      42.000000   \n",
       "50%          9.000000  2.000000e+07     3.705880e+05      58.000000   \n",
       "75%         13.000000  3.890000e+07     5.206400e+05      82.800000   \n",
       "max         30.000000  1.910410e+09     4.998082e+06     705.000000   \n",
       "\n",
       "       Жилая площадь  Площадь кухни         Этаж  Год постройки  \\\n",
       "count    9821.000000    9821.000000  9821.000000    9821.000000   \n",
       "mean       42.658307      12.481586     8.189594    1990.434579   \n",
       "std        31.805155       8.809804     7.782657      33.306659   \n",
       "min         3.000000       1.000000    -1.000000    1822.000000   \n",
       "25%        23.000000       7.000000     3.000000    1967.000000   \n",
       "50%        33.700000      10.000000     6.000000    2000.000000   \n",
       "75%        50.000000      15.000000    11.000000    2022.000000   \n",
       "max       450.000000     136.500000    82.000000    2024.000000   \n",
       "\n",
       "       Высота потолков      Санузел  Количество лифтов  Балкон/лоджия  \\\n",
       "count      9821.000000  9821.000000        9821.000000    9821.000000   \n",
       "mean          2.936179     1.356888           2.020568       1.102230   \n",
       "std           0.627947     0.682939           1.615727       0.365988   \n",
       "min           0.000000     1.000000           0.000000       1.000000   \n",
       "25%           2.700000     1.000000           1.000000       1.000000   \n",
       "50%           2.870000     1.000000           2.000000       1.000000   \n",
       "75%           3.000000     2.000000           3.000000       1.000000   \n",
       "max          31.000000     7.000000          28.000000       6.000000   \n",
       "\n",
       "       Этажность здания  Кол-во комнат  \n",
       "count       9821.000000    9821.000000  \n",
       "mean          15.777314       2.291722  \n",
       "std           11.757963       1.040191  \n",
       "min            2.000000       1.000000  \n",
       "25%            8.000000       1.000000  \n",
       "50%           12.000000       2.000000  \n",
       "75%           20.000000       3.000000  \n",
       "max           95.000000       5.000000  "
      ]
     },
     "execution_count": 55,
     "metadata": {},
     "output_type": "execute_result"
    }
   ],
   "source": [
    "df_clean.describe()"
   ]
  },
  {
   "cell_type": "markdown",
   "id": "a2973652-1c5b-4c12-bffc-b0c445528f30",
   "metadata": {},
   "source": [
    "Удалим аномалии в данных: все отрицательные значения и значения меньше 2 в \"Высота потолков\"."
   ]
  },
  {
   "cell_type": "code",
   "execution_count": 56,
   "id": "1abc9749-4c85-4f5f-974a-b2a82e6e3deb",
   "metadata": {},
   "outputs": [],
   "source": [
    "def anomaly_drop(data: pd.DataFrame) -> pd.DataFrame:\n",
    "    \"\"\"Удаление аномалий в данных: Отрицательные значения и значения меньше 2 в \"Высота потолков\"\n",
    "    :param data: Датасет\n",
    "    \"\"\"\n",
    "    df_num = data.select_dtypes(include=np.number)\n",
    "    drop_neg = []\n",
    "    for i, j in df_num.iterrows():\n",
    "        for k in j:\n",
    "            if k < 0:\n",
    "                drop_neg.append(i)\n",
    "    drop_neg += data[data[\"Высота потолков\"] < 2].index.tolist()\n",
    "    df_fin = data.drop(index=drop_neg)\n",
    "    df_fin = df_fin.reset_index(drop=True)\n",
    "    return df_fin"
   ]
  },
  {
   "cell_type": "code",
   "execution_count": 57,
   "id": "eae93119-2708-40a9-bb01-448d7fdf5116",
   "metadata": {},
   "outputs": [],
   "source": [
    "df_fin = anomaly_drop(df_clean)"
   ]
  },
  {
   "cell_type": "code",
   "execution_count": 58,
   "id": "d0cfebdb-f73a-444b-a722-a96e2f521d29",
   "metadata": {},
   "outputs": [
    {
     "name": "stdout",
     "output_type": "stream",
     "text": [
      "<class 'pandas.core.frame.DataFrame'>\n",
      "RangeIndex: 9818 entries, 0 to 9817\n",
      "Data columns (total 25 columns):\n",
      " #   Column             Non-Null Count  Dtype  \n",
      "---  ------             --------------  -----  \n",
      " 0   Адрес              9818 non-null   object \n",
      " 1   Метро              9818 non-null   object \n",
      " 2   Время до метро     9818 non-null   int32  \n",
      " 3   Цена               9818 non-null   float64\n",
      " 4   Цена за квадрат    9818 non-null   float64\n",
      " 5   Общая площадь      9818 non-null   float64\n",
      " 6   Жилая площадь      9818 non-null   float64\n",
      " 7   Площадь кухни      9818 non-null   float64\n",
      " 8   Этаж               9818 non-null   int64  \n",
      " 9   Год постройки      9818 non-null   int32  \n",
      " 10  Тип жилья          9818 non-null   object \n",
      " 11  Высота потолков    9818 non-null   float64\n",
      " 12  Санузел            9818 non-null   int32  \n",
      " 13  Вид из окон        9818 non-null   object \n",
      " 14  Ремонт             9818 non-null   object \n",
      " 15  Мусоропровод       9818 non-null   object \n",
      " 16  Количество лифтов  9818 non-null   int64  \n",
      " 17  Тип дома           9818 non-null   object \n",
      " 18  Тип перекрытий     9818 non-null   object \n",
      " 19  Парковка           9818 non-null   object \n",
      " 20  Отопление          9818 non-null   object \n",
      " 21  Балкон/лоджия      9818 non-null   int32  \n",
      " 22  Отделка            9818 non-null   object \n",
      " 23  Этажность здания   9818 non-null   int32  \n",
      " 24  Кол-во комнат      9818 non-null   int64  \n",
      "dtypes: float64(6), int32(5), int64(3), object(11)\n",
      "memory usage: 1.7+ MB\n"
     ]
    }
   ],
   "source": [
    "df_fin.info()"
   ]
  },
  {
   "cell_type": "code",
   "execution_count": 59,
   "id": "1156b93b-d543-4e33-b803-87aca4e3764c",
   "metadata": {},
   "outputs": [],
   "source": [
    "def save_unique_train_data(\n",
    "    data: pd.DataFrame, drop_columns: list, unique_values_path: str\n",
    ") -> None:\n",
    "    \"\"\"\n",
    "    Сохранение словаря с признаками и уникальными значениями\n",
    "    :param drop_columns: список с признаками для удаления\n",
    "    :param data: датасет\n",
    "    :param unique_values_path: путь до файла со словарем\n",
    "    :return: None\n",
    "    \"\"\"\n",
    "    unique_df = data.drop(columns=drop_columns, axis=1)\n",
    "    # создаем словарь с уникальными значениями для вывода в UI\n",
    "    dict_unique = {key: unique_df[key].unique().tolist() for key in unique_df.columns}\n",
    "    with open(unique_values_path, \"w\") as file:\n",
    "        json.dump(dict_unique, file)"
   ]
  },
  {
   "cell_type": "code",
   "execution_count": 63,
   "id": "4519ee05-8fb3-44b0-b3c6-c1862bb79a2a",
   "metadata": {},
   "outputs": [],
   "source": [
    "save_unique_train_data(\n",
    "            data=df_fin,\n",
    "            drop_columns=training[\"drop_columns_unique\"],\n",
    "            unique_values_path=training[\"unique_values_path\"],\n",
    "        )"
   ]
  },
  {
   "cell_type": "code",
   "execution_count": 64,
   "id": "d6fd9a43-5236-436c-81fc-a8c5171a95d5",
   "metadata": {},
   "outputs": [],
   "source": [
    "with open(training[\"unique_values_path\"]) as json_file:\n",
    "        unique_values = json.load(json_file)"
   ]
  },
  {
   "cell_type": "code",
   "execution_count": 69,
   "id": "ceedc496-7b7a-4884-a026-b8d003777217",
   "metadata": {},
   "outputs": [
    {
     "data": {
      "text/plain": [
       "list"
      ]
     },
     "execution_count": 69,
     "metadata": {},
     "output_type": "execute_result"
    }
   ],
   "source": [
    "type(unique_values['Время до метро'])"
   ]
  },
  {
   "cell_type": "markdown",
   "id": "240cbd2b-b44d-47a4-a0ae-955469945ead",
   "metadata": {},
   "source": [
    "Заполнены все путые значения кроме время до метро. Его заполню дальше после добавления геоданных."
   ]
  },
  {
   "cell_type": "code",
   "execution_count": 63,
   "id": "d954a5d8-a4c9-4f5e-9ea0-57e86d1be4cd",
   "metadata": {},
   "outputs": [
    {
     "data": {
      "text/html": [
       "<div>\n",
       "<style scoped>\n",
       "    .dataframe tbody tr th:only-of-type {\n",
       "        vertical-align: middle;\n",
       "    }\n",
       "\n",
       "    .dataframe tbody tr th {\n",
       "        vertical-align: top;\n",
       "    }\n",
       "\n",
       "    .dataframe thead th {\n",
       "        text-align: right;\n",
       "    }\n",
       "</style>\n",
       "<table border=\"1\" class=\"dataframe\">\n",
       "  <thead>\n",
       "    <tr style=\"text-align: right;\">\n",
       "      <th></th>\n",
       "      <th>Время до метро</th>\n",
       "      <th>Цена</th>\n",
       "      <th>Цена за квадрат</th>\n",
       "      <th>Общая площадь</th>\n",
       "      <th>Жилая площадь</th>\n",
       "      <th>Площадь кухни</th>\n",
       "      <th>Этаж</th>\n",
       "      <th>Год постройки</th>\n",
       "      <th>Высота потолков</th>\n",
       "      <th>Санузел</th>\n",
       "      <th>Количество лифтов</th>\n",
       "      <th>Балкон/лоджия</th>\n",
       "      <th>Этажность здания</th>\n",
       "      <th>Кол-во комнат</th>\n",
       "    </tr>\n",
       "  </thead>\n",
       "  <tbody>\n",
       "    <tr>\n",
       "      <th>count</th>\n",
       "      <td>9818.000000</td>\n",
       "      <td>9.818000e+03</td>\n",
       "      <td>9.818000e+03</td>\n",
       "      <td>9818.000000</td>\n",
       "      <td>9818.000000</td>\n",
       "      <td>9818.000000</td>\n",
       "      <td>9818.000000</td>\n",
       "      <td>9818.000000</td>\n",
       "      <td>9818.000000</td>\n",
       "      <td>9818.000000</td>\n",
       "      <td>9818.000000</td>\n",
       "      <td>9818.000000</td>\n",
       "      <td>9818.000000</td>\n",
       "      <td>9818.000000</td>\n",
       "    </tr>\n",
       "    <tr>\n",
       "      <th>mean</th>\n",
       "      <td>9.411795</td>\n",
       "      <td>4.659778e+07</td>\n",
       "      <td>4.927652e+05</td>\n",
       "      <td>72.742767</td>\n",
       "      <td>42.655024</td>\n",
       "      <td>12.482345</td>\n",
       "      <td>8.190874</td>\n",
       "      <td>1990.452944</td>\n",
       "      <td>2.936784</td>\n",
       "      <td>1.356895</td>\n",
       "      <td>2.020982</td>\n",
       "      <td>1.102261</td>\n",
       "      <td>15.779690</td>\n",
       "      <td>2.291505</td>\n",
       "    </tr>\n",
       "    <tr>\n",
       "      <th>std</th>\n",
       "      <td>5.222074</td>\n",
       "      <td>9.031080e+07</td>\n",
       "      <td>3.816471e+05</td>\n",
       "      <td>51.427789</td>\n",
       "      <td>31.807988</td>\n",
       "      <td>8.810997</td>\n",
       "      <td>7.783096</td>\n",
       "      <td>33.291813</td>\n",
       "      <td>0.626642</td>\n",
       "      <td>0.682994</td>\n",
       "      <td>1.615780</td>\n",
       "      <td>0.366039</td>\n",
       "      <td>11.758861</td>\n",
       "      <td>1.040178</td>\n",
       "    </tr>\n",
       "    <tr>\n",
       "      <th>min</th>\n",
       "      <td>1.000000</td>\n",
       "      <td>2.390000e+06</td>\n",
       "      <td>7.364800e+04</td>\n",
       "      <td>11.000000</td>\n",
       "      <td>3.000000</td>\n",
       "      <td>1.000000</td>\n",
       "      <td>1.000000</td>\n",
       "      <td>1822.000000</td>\n",
       "      <td>2.000000</td>\n",
       "      <td>1.000000</td>\n",
       "      <td>0.000000</td>\n",
       "      <td>1.000000</td>\n",
       "      <td>2.000000</td>\n",
       "      <td>1.000000</td>\n",
       "    </tr>\n",
       "    <tr>\n",
       "      <th>25%</th>\n",
       "      <td>5.000000</td>\n",
       "      <td>1.360000e+07</td>\n",
       "      <td>2.917870e+05</td>\n",
       "      <td>42.000000</td>\n",
       "      <td>23.000000</td>\n",
       "      <td>7.000000</td>\n",
       "      <td>3.000000</td>\n",
       "      <td>1967.000000</td>\n",
       "      <td>2.700000</td>\n",
       "      <td>1.000000</td>\n",
       "      <td>1.000000</td>\n",
       "      <td>1.000000</td>\n",
       "      <td>8.000000</td>\n",
       "      <td>1.000000</td>\n",
       "    </tr>\n",
       "    <tr>\n",
       "      <th>50%</th>\n",
       "      <td>9.000000</td>\n",
       "      <td>2.000000e+07</td>\n",
       "      <td>3.705880e+05</td>\n",
       "      <td>58.000000</td>\n",
       "      <td>33.700000</td>\n",
       "      <td>10.000000</td>\n",
       "      <td>6.000000</td>\n",
       "      <td>2000.000000</td>\n",
       "      <td>2.870000</td>\n",
       "      <td>1.000000</td>\n",
       "      <td>2.000000</td>\n",
       "      <td>1.000000</td>\n",
       "      <td>12.000000</td>\n",
       "      <td>2.000000</td>\n",
       "    </tr>\n",
       "    <tr>\n",
       "      <th>75%</th>\n",
       "      <td>13.000000</td>\n",
       "      <td>3.890000e+07</td>\n",
       "      <td>5.206170e+05</td>\n",
       "      <td>82.700000</td>\n",
       "      <td>50.000000</td>\n",
       "      <td>15.000000</td>\n",
       "      <td>11.000000</td>\n",
       "      <td>2022.000000</td>\n",
       "      <td>3.000000</td>\n",
       "      <td>2.000000</td>\n",
       "      <td>3.000000</td>\n",
       "      <td>1.000000</td>\n",
       "      <td>20.000000</td>\n",
       "      <td>3.000000</td>\n",
       "    </tr>\n",
       "    <tr>\n",
       "      <th>max</th>\n",
       "      <td>30.000000</td>\n",
       "      <td>1.910410e+09</td>\n",
       "      <td>4.998082e+06</td>\n",
       "      <td>705.000000</td>\n",
       "      <td>450.000000</td>\n",
       "      <td>136.500000</td>\n",
       "      <td>82.000000</td>\n",
       "      <td>2024.000000</td>\n",
       "      <td>31.000000</td>\n",
       "      <td>7.000000</td>\n",
       "      <td>28.000000</td>\n",
       "      <td>6.000000</td>\n",
       "      <td>95.000000</td>\n",
       "      <td>5.000000</td>\n",
       "    </tr>\n",
       "  </tbody>\n",
       "</table>\n",
       "</div>"
      ],
      "text/plain": [
       "       Время до метро          Цена  Цена за квадрат  Общая площадь  \\\n",
       "count     9818.000000  9.818000e+03     9.818000e+03    9818.000000   \n",
       "mean         9.411795  4.659778e+07     4.927652e+05      72.742767   \n",
       "std          5.222074  9.031080e+07     3.816471e+05      51.427789   \n",
       "min          1.000000  2.390000e+06     7.364800e+04      11.000000   \n",
       "25%          5.000000  1.360000e+07     2.917870e+05      42.000000   \n",
       "50%          9.000000  2.000000e+07     3.705880e+05      58.000000   \n",
       "75%         13.000000  3.890000e+07     5.206170e+05      82.700000   \n",
       "max         30.000000  1.910410e+09     4.998082e+06     705.000000   \n",
       "\n",
       "       Жилая площадь  Площадь кухни         Этаж  Год постройки  \\\n",
       "count    9818.000000    9818.000000  9818.000000    9818.000000   \n",
       "mean       42.655024      12.482345     8.190874    1990.452944   \n",
       "std        31.807988       8.810997     7.783096      33.291813   \n",
       "min         3.000000       1.000000     1.000000    1822.000000   \n",
       "25%        23.000000       7.000000     3.000000    1967.000000   \n",
       "50%        33.700000      10.000000     6.000000    2000.000000   \n",
       "75%        50.000000      15.000000    11.000000    2022.000000   \n",
       "max       450.000000     136.500000    82.000000    2024.000000   \n",
       "\n",
       "       Высота потолков      Санузел  Количество лифтов  Балкон/лоджия  \\\n",
       "count      9818.000000  9818.000000        9818.000000    9818.000000   \n",
       "mean          2.936784     1.356895           2.020982       1.102261   \n",
       "std           0.626642     0.682994           1.615780       0.366039   \n",
       "min           2.000000     1.000000           0.000000       1.000000   \n",
       "25%           2.700000     1.000000           1.000000       1.000000   \n",
       "50%           2.870000     1.000000           2.000000       1.000000   \n",
       "75%           3.000000     2.000000           3.000000       1.000000   \n",
       "max          31.000000     7.000000          28.000000       6.000000   \n",
       "\n",
       "       Этажность здания  Кол-во комнат  \n",
       "count       9818.000000    9818.000000  \n",
       "mean          15.779690       2.291505  \n",
       "std           11.758861       1.040178  \n",
       "min            2.000000       1.000000  \n",
       "25%            8.000000       1.000000  \n",
       "50%           12.000000       2.000000  \n",
       "75%           20.000000       3.000000  \n",
       "max           95.000000       5.000000  "
      ]
     },
     "execution_count": 63,
     "metadata": {},
     "output_type": "execute_result"
    }
   ],
   "source": [
    "df_fin.describe()"
   ]
  },
  {
   "cell_type": "code",
   "execution_count": 64,
   "id": "279e91c6-2045-4298-944d-ff3a87b38d37",
   "metadata": {},
   "outputs": [
    {
     "data": {
      "text/html": [
       "<div>\n",
       "<style scoped>\n",
       "    .dataframe tbody tr th:only-of-type {\n",
       "        vertical-align: middle;\n",
       "    }\n",
       "\n",
       "    .dataframe tbody tr th {\n",
       "        vertical-align: top;\n",
       "    }\n",
       "\n",
       "    .dataframe thead th {\n",
       "        text-align: right;\n",
       "    }\n",
       "</style>\n",
       "<table border=\"1\" class=\"dataframe\">\n",
       "  <thead>\n",
       "    <tr style=\"text-align: right;\">\n",
       "      <th></th>\n",
       "      <th>Адрес</th>\n",
       "      <th>Метро</th>\n",
       "      <th>Тип жилья</th>\n",
       "      <th>Вид из окон</th>\n",
       "      <th>Ремонт</th>\n",
       "      <th>Мусоропровод</th>\n",
       "      <th>Тип дома</th>\n",
       "      <th>Тип перекрытий</th>\n",
       "      <th>Парковка</th>\n",
       "      <th>Отопление</th>\n",
       "      <th>Отделка</th>\n",
       "    </tr>\n",
       "  </thead>\n",
       "  <tbody>\n",
       "    <tr>\n",
       "      <th>count</th>\n",
       "      <td>9818</td>\n",
       "      <td>9818</td>\n",
       "      <td>9818</td>\n",
       "      <td>9818</td>\n",
       "      <td>9818</td>\n",
       "      <td>9818</td>\n",
       "      <td>9818</td>\n",
       "      <td>9818</td>\n",
       "      <td>9818</td>\n",
       "      <td>9818</td>\n",
       "      <td>9818</td>\n",
       "    </tr>\n",
       "    <tr>\n",
       "      <th>unique</th>\n",
       "      <td>5588</td>\n",
       "      <td>290</td>\n",
       "      <td>2</td>\n",
       "      <td>3</td>\n",
       "      <td>4</td>\n",
       "      <td>2</td>\n",
       "      <td>7</td>\n",
       "      <td>4</td>\n",
       "      <td>4</td>\n",
       "      <td>7</td>\n",
       "      <td>8</td>\n",
       "    </tr>\n",
       "    <tr>\n",
       "      <th>top</th>\n",
       "      <td>Москва, ЦАО, р-н Арбат, Поварская ул., 8/1к1</td>\n",
       "      <td>Арбатская</td>\n",
       "      <td>Вторичка</td>\n",
       "      <td>Во двор</td>\n",
       "      <td>Косметический</td>\n",
       "      <td>Да</td>\n",
       "      <td>Монолитный</td>\n",
       "      <td>Железобетонные</td>\n",
       "      <td>Наземная</td>\n",
       "      <td>Центральное</td>\n",
       "      <td>Неизвестно</td>\n",
       "    </tr>\n",
       "    <tr>\n",
       "      <th>freq</th>\n",
       "      <td>31</td>\n",
       "      <td>135</td>\n",
       "      <td>8318</td>\n",
       "      <td>6112</td>\n",
       "      <td>4474</td>\n",
       "      <td>8916</td>\n",
       "      <td>5346</td>\n",
       "      <td>7820</td>\n",
       "      <td>7121</td>\n",
       "      <td>8530</td>\n",
       "      <td>8481</td>\n",
       "    </tr>\n",
       "  </tbody>\n",
       "</table>\n",
       "</div>"
      ],
      "text/plain": [
       "                                               Адрес      Метро Тип жилья  \\\n",
       "count                                           9818       9818      9818   \n",
       "unique                                          5588        290         2   \n",
       "top     Москва, ЦАО, р-н Арбат, Поварская ул., 8/1к1  Арбатская  Вторичка   \n",
       "freq                                              31        135      8318   \n",
       "\n",
       "       Вид из окон         Ремонт Мусоропровод    Тип дома  Тип перекрытий  \\\n",
       "count         9818           9818         9818        9818            9818   \n",
       "unique           3              4            2           7               4   \n",
       "top        Во двор  Косметический           Да  Монолитный  Железобетонные   \n",
       "freq          6112           4474         8916        5346            7820   \n",
       "\n",
       "        Парковка    Отопление     Отделка  \n",
       "count       9818         9818        9818  \n",
       "unique         4            7           8  \n",
       "top     Наземная  Центральное  Неизвестно  \n",
       "freq        7121         8530        8481  "
      ]
     },
     "execution_count": 64,
     "metadata": {},
     "output_type": "execute_result"
    }
   ],
   "source": [
    "df_fin.describe(include=[\"bool\", \"object\"])"
   ]
  },
  {
   "cell_type": "code",
   "execution_count": 65,
   "id": "46abcc2a-560e-46a3-bbff-928fc478cbdb",
   "metadata": {},
   "outputs": [],
   "source": [
    "def create_data(data: pd.DataFrame, dataset_path: Text):\n",
    "    \"\"\"\n",
    "    Создание csv файла с данными.\n",
    "    :param data: датасет.\n",
    "    :param dataset_path: путь к создаваемому файлу.\n",
    "    \"\"\"\n",
    "    data.to_csv(dataset_path, index=False)"
   ]
  },
  {
   "cell_type": "code",
   "execution_count": 66,
   "id": "ce9ef0b1-23aa-440d-aae5-be773be10f95",
   "metadata": {},
   "outputs": [],
   "source": [
    "create_data(data=df_fin, dataset_path=preproc[\"cian_clean_path\"])"
   ]
  },
  {
   "cell_type": "code",
   "execution_count": 67,
   "id": "d9de9837-1927-47be-9165-ff1044a84e90",
   "metadata": {},
   "outputs": [
    {
     "data": {
      "text/plain": [
       "Адрес                Москва, ЦАО, р-н Тверской, Тверская ул., 12С7\n",
       "Метро                                                   Пушкинская\n",
       "Время до метро                                                   3\n",
       "Цена                                                    75000000.0\n",
       "Цена за квадрат                                           375000.0\n",
       "Общая площадь                                                200.0\n",
       "Жилая площадь                                                120.0\n",
       "Площадь кухни                                                 20.0\n",
       "Этаж                                                             6\n",
       "Год постройки                                                 1917\n",
       "Тип жилья                                                 Вторичка\n",
       "Высота потолков                                                3.8\n",
       "Санузел                                                          4\n",
       "Вид из окон                                        На улицу и двор\n",
       "Ремонт                                               Косметический\n",
       "Мусоропровод                                                    Да\n",
       "Количество лифтов                                                1\n",
       "Тип дома                                                 Кирпичный\n",
       "Тип перекрытий                                      Нет информации\n",
       "Парковка                                                  Наземная\n",
       "Отопление                                              Центральное\n",
       "Балкон/лоджия                                                    1\n",
       "Отделка                                                 Неизвестно\n",
       "Этажность здания                                                 6\n",
       "Кол-во комнат                                                    5\n",
       "Name: 1, dtype: object"
      ]
     },
     "execution_count": 67,
     "metadata": {},
     "output_type": "execute_result"
    }
   ],
   "source": [
    "df_fin.iloc[1]"
   ]
  },
  {
   "cell_type": "markdown",
   "id": "d94b1705-2cfd-4b51-824d-9b1310db85ed",
   "metadata": {},
   "source": [
    "# Геокодирование"
   ]
  },
  {
   "cell_type": "markdown",
   "id": "6bb0ac85-33ea-4a98-8af3-63e496d2dc78",
   "metadata": {},
   "source": [
    "## Поиск и добавление координат"
   ]
  },
  {
   "cell_type": "markdown",
   "id": "f95fb096-a6ea-4b96-8d76-31478da63bda",
   "metadata": {},
   "source": [
    "### Поиск координат метро."
   ]
  },
  {
   "cell_type": "code",
   "execution_count": 68,
   "id": "1b1c889f-a2b0-4a9b-a8d6-f7acf7784ef5",
   "metadata": {},
   "outputs": [
    {
     "data": {
      "text/plain": [
       "0        Москва, метро Трубная\n",
       "1     Москва, метро Пушкинская\n",
       "2    Москва, метро Охотный ряд\n",
       "3    Москва, метро Охотный ряд\n",
       "4    Москва, метро Театральная\n",
       "Name: Город и метро, dtype: object"
      ]
     },
     "execution_count": 68,
     "metadata": {},
     "output_type": "execute_result"
    }
   ],
   "source": [
    "df_fin[\"Город и метро\"] = \"Москва, метро \" + df_fin[\"Метро\"]\n",
    "df_fin[\"Город и метро\"].head()"
   ]
  },
  {
   "cell_type": "code",
   "execution_count": 69,
   "id": "b0eac109-dafc-485c-aa76-da207dea4b25",
   "metadata": {},
   "outputs": [
    {
     "data": {
      "text/plain": [
       "290"
      ]
     },
     "execution_count": 69,
     "metadata": {},
     "output_type": "execute_result"
    }
   ],
   "source": [
    "df_fin[\"Город и метро\"].nunique()"
   ]
  },
  {
   "cell_type": "code",
   "execution_count": 70,
   "id": "71254375-dd9d-471a-9018-5586af70f13f",
   "metadata": {},
   "outputs": [],
   "source": [
    "def metro_point(data: pd.DataFrame, metro_path):\n",
    "    \"\"\"\n",
    "    Поиск координат метро\n",
    "    :param data: датасет.\n",
    "    :return:\n",
    "    \"\"\"\n",
    "    with open(metro_path) as file:\n",
    "        metro = json.load(file)\n",
    "    data[\"координаты метро\"] = data[\"Город и метро\"].map(metro)\n",
    "    data[\"широта метро\"] = data[\"координаты метро\"].apply(lambda x: x[0])\n",
    "    data[\"долгота метро\"] = data[\"координаты метро\"].apply(lambda x: x[1])"
   ]
  },
  {
   "cell_type": "code",
   "execution_count": 71,
   "id": "7a06b1c5-836c-46db-8e26-bd6b5551613b",
   "metadata": {},
   "outputs": [],
   "source": [
    "metro_point(df_fin, preproc[\"metro_path\"])"
   ]
  },
  {
   "cell_type": "markdown",
   "id": "c0ca6992-4d66-438a-a8e3-afd357358a1b",
   "metadata": {},
   "source": [
    "### Поиск координат дома."
   ]
  },
  {
   "cell_type": "code",
   "execution_count": 72,
   "id": "b4f8d50e-6ef8-41c6-a3ae-24e9f6807608",
   "metadata": {},
   "outputs": [],
   "source": [
    "def address_point(data: pd.DataFrame, address_path):\n",
    "    \"\"\"\n",
    "    Поиск координат дома\n",
    "    :param data: датасет.\n",
    "    :return:\n",
    "    \"\"\"\n",
    "    with open(address_path) as file:\n",
    "        address = json.load(file)\n",
    "    data[\"координаты дома\"] = data[\"Адрес\"].map(address)\n",
    "    data[\"широта дома\"] = data[\"координаты дома\"].apply(lambda x: x[0])\n",
    "    data[\"долгота дома\"] = data[\"координаты дома\"].apply(lambda x: x[1])"
   ]
  },
  {
   "cell_type": "code",
   "execution_count": 73,
   "id": "fe5ba63d-9988-4407-9752-dccc3ef90823",
   "metadata": {},
   "outputs": [],
   "source": [
    "address_point(df_fin, preproc[\"address_path\"])"
   ]
  },
  {
   "cell_type": "markdown",
   "id": "dd4cc311-65a3-4c60-ab11-88f65700adb8",
   "metadata": {},
   "source": [
    "### Поиск расстояний до центра и метро."
   ]
  },
  {
   "cell_type": "code",
   "execution_count": 74,
   "id": "4292fb98-3814-4000-b178-b212fe248d4a",
   "metadata": {},
   "outputs": [],
   "source": [
    "def get_distance(data: pd.DataFrame, lon_center: float, lat_center: float):\n",
    "    \"\"\"\n",
    "    Добавление дистанции до метро и до центра.\n",
    "    :param lat_center: широта центра Москвы\n",
    "    :param lon_center: долгота центра Москвы\n",
    "    :param data: датасет\n",
    "    :return:\n",
    "    \"\"\"\n",
    "    data[\"Расстояние до центра\"] = data[[\"широта дома\", \"долгота дома\"]].apply(\n",
    "        lambda x: distance.distance((x[0], x[1]), (lat_center, lon_center)).km, axis=1\n",
    "    )\n",
    "    data[\"Расстояние до метро\"] = data[\n",
    "        [\"широта дома\", \"долгота дома\", \"широта метро\", \"долгота метро\"]\n",
    "    ].apply(lambda x: distance.distance((x[0], x[1]), (x[2], x[3])).km, axis=1)"
   ]
  },
  {
   "cell_type": "code",
   "execution_count": 75,
   "id": "20509349-47cb-430f-8199-a5164c1e0fe9",
   "metadata": {},
   "outputs": [],
   "source": [
    "get_distance(\n",
    "    data=df_fin, lon_center=preproc[\"lon_center\"], lat_center=preproc[\"lat_center\"]\n",
    ")"
   ]
  },
  {
   "cell_type": "markdown",
   "id": "3b8c4e3c-09e1-427b-a2f8-4a9f64963b9f",
   "metadata": {},
   "source": [
    "## Добавление признака \"Округ\""
   ]
  },
  {
   "cell_type": "code",
   "execution_count": 76,
   "id": "99397c5a-5d47-4d62-bda6-8cedc05c1ad7",
   "metadata": {},
   "outputs": [],
   "source": [
    "def get_district(data: pd.DataFrame):\n",
    "    \"\"\"\n",
    "    Добавление признака Округ.\n",
    "    :param data: Датасет\n",
    "    :return:\n",
    "    \"\"\"\n",
    "    districts = [\n",
    "        \"ЦАО\",\n",
    "        \"ЮАО\",\n",
    "        \"ЮЗАО\",\n",
    "        \"ЮВАО\",\n",
    "        \"ЗАО\",\n",
    "        \"СВАО\",\n",
    "        \"ВАО\",\n",
    "        \"САО\",\n",
    "        \"СЗАО\",\n",
    "        \"НАО (Новомосковский)\",\n",
    "        \"ЗелАО\",\n",
    "    ]\n",
    "    data[\"district\"] = data[\"Адрес\"].str.split(\", \", expand=True)[1]\n",
    "\n",
    "    district = dict()\n",
    "    for i in range(0, len(data[\"Метро\"])):\n",
    "        if i not in district.keys():\n",
    "            if data[\"district\"][i] in districts:\n",
    "                district[data[\"Метро\"][i]] = data[\"district\"][i]\n",
    "    data[\"Округ\"] = data[\"Метро\"].map(district)\n",
    "\n",
    "    for ind, dis in enumerate(data[\"Округ\"]):\n",
    "        if dis not in districts:\n",
    "            data[\"Округ\"][ind] = \"Неизвестно\"\n",
    "\n",
    "    data[\"Округ\"] = data[\"Округ\"].str.split(\" \", expand=True)[0]"
   ]
  },
  {
   "cell_type": "code",
   "execution_count": 77,
   "id": "1428b411-8a01-4bbd-abd8-519ff78ee8d3",
   "metadata": {},
   "outputs": [],
   "source": [
    "get_district(df_fin)"
   ]
  },
  {
   "cell_type": "code",
   "execution_count": 78,
   "id": "f269a376-6e1d-460d-8533-1b6cb32b019a",
   "metadata": {},
   "outputs": [
    {
     "data": {
      "text/plain": [
       "Округ\n",
       "ЦАО           2616\n",
       "ЮАО           1439\n",
       "ЮЗАО          1037\n",
       "ЮВАО           948\n",
       "ЗАО            824\n",
       "ВАО            808\n",
       "СВАО           800\n",
       "САО            738\n",
       "СЗАО           402\n",
       "НАО            195\n",
       "Неизвестно       6\n",
       "ЗелАО            5\n",
       "Name: count, dtype: int64"
      ]
     },
     "execution_count": 78,
     "metadata": {},
     "output_type": "execute_result"
    }
   ],
   "source": [
    "df_fin[\"Округ\"].value_counts()"
   ]
  },
  {
   "cell_type": "markdown",
   "id": "82695a86-fd87-4a6c-a0a9-3ece6970e5a7",
   "metadata": {},
   "source": [
    "## Удаление лишних колонок"
   ]
  },
  {
   "cell_type": "code",
   "execution_count": 79,
   "id": "53786bfd-65f4-446a-bab7-c3c79726a90d",
   "metadata": {},
   "outputs": [],
   "source": [
    "def removing_excess(data: pd.DataFrame) -> pd.DataFrame:\n",
    "    \"\"\"\n",
    "    Удаление лишних колонок.\n",
    "    :param data: Датасет\n",
    "    :return: новый датасет\n",
    "    \"\"\"\n",
    "    data_clean = data.drop(\n",
    "        [\"Город и метро\", \"координаты метро\", \"координаты дома\", \"district\"], axis=1\n",
    "    )\n",
    "    return data_clean"
   ]
  },
  {
   "cell_type": "code",
   "execution_count": 80,
   "id": "6b660dec-4962-466b-a180-47ce325c9424",
   "metadata": {},
   "outputs": [],
   "source": [
    "df_full = removing_excess(df_fin)"
   ]
  },
  {
   "cell_type": "code",
   "execution_count": 81,
   "id": "70fe17cb-0fb1-4d4e-b88b-c037cd0841a5",
   "metadata": {},
   "outputs": [
    {
     "name": "stdout",
     "output_type": "stream",
     "text": [
      "<class 'pandas.core.frame.DataFrame'>\n",
      "RangeIndex: 9818 entries, 0 to 9817\n",
      "Data columns (total 32 columns):\n",
      " #   Column                Non-Null Count  Dtype  \n",
      "---  ------                --------------  -----  \n",
      " 0   Адрес                 9818 non-null   object \n",
      " 1   Метро                 9818 non-null   object \n",
      " 2   Время до метро        9818 non-null   int32  \n",
      " 3   Цена                  9818 non-null   float64\n",
      " 4   Цена за квадрат       9818 non-null   float64\n",
      " 5   Общая площадь         9818 non-null   float64\n",
      " 6   Жилая площадь         9818 non-null   float64\n",
      " 7   Площадь кухни         9818 non-null   float64\n",
      " 8   Этаж                  9818 non-null   int64  \n",
      " 9   Год постройки         9818 non-null   int32  \n",
      " 10  Тип жилья             9818 non-null   object \n",
      " 11  Высота потолков       9818 non-null   float64\n",
      " 12  Санузел               9818 non-null   int32  \n",
      " 13  Вид из окон           9818 non-null   object \n",
      " 14  Ремонт                9818 non-null   object \n",
      " 15  Мусоропровод          9818 non-null   object \n",
      " 16  Количество лифтов     9818 non-null   int64  \n",
      " 17  Тип дома              9818 non-null   object \n",
      " 18  Тип перекрытий        9818 non-null   object \n",
      " 19  Парковка              9818 non-null   object \n",
      " 20  Отопление             9818 non-null   object \n",
      " 21  Балкон/лоджия         9818 non-null   int32  \n",
      " 22  Отделка               9818 non-null   object \n",
      " 23  Этажность здания      9818 non-null   int32  \n",
      " 24  Кол-во комнат         9818 non-null   int64  \n",
      " 25  широта метро          9818 non-null   float64\n",
      " 26  долгота метро         9818 non-null   float64\n",
      " 27  широта дома           9818 non-null   float64\n",
      " 28  долгота дома          9818 non-null   float64\n",
      " 29  Расстояние до центра  9818 non-null   float64\n",
      " 30  Расстояние до метро   9818 non-null   float64\n",
      " 31  Округ                 9818 non-null   object \n",
      "dtypes: float64(12), int32(5), int64(3), object(12)\n",
      "memory usage: 2.2+ MB\n"
     ]
    }
   ],
   "source": [
    "df_full.info()"
   ]
  },
  {
   "cell_type": "code",
   "execution_count": 82,
   "id": "053f2e44-8bc7-4224-a7f1-9aba6e36852d",
   "metadata": {},
   "outputs": [],
   "source": [
    "create_data(data=df_full, dataset_path=preproc[\"cian_full_path\"])"
   ]
  }
 ],
 "metadata": {
  "kernelspec": {
   "display_name": "Python 3 (ipykernel)",
   "language": "python",
   "name": "python3"
  },
  "language_info": {
   "codemirror_mode": {
    "name": "ipython",
    "version": 3
   },
   "file_extension": ".py",
   "mimetype": "text/x-python",
   "name": "python",
   "nbconvert_exporter": "python",
   "pygments_lexer": "ipython3",
   "version": "3.11.5"
  },
  "toc": {
   "base_numbering": 1,
   "nav_menu": {},
   "number_sections": true,
   "sideBar": true,
   "skip_h1_title": false,
   "title_cell": "Table of Contents",
   "title_sidebar": "Contents",
   "toc_cell": false,
   "toc_position": {},
   "toc_section_display": true,
   "toc_window_display": false
  }
 },
 "nbformat": 4,
 "nbformat_minor": 5
}
